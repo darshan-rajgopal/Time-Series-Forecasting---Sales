{
 "cells": [
  {
   "cell_type": "code",
   "execution_count": 1,
   "metadata": {
    "colab": {
     "base_uri": "https://localhost:8080/"
    },
    "id": "t-kCr15FE2ru",
    "outputId": "77db8f64-8a7f-4b68-8515-8a44a3b13a77"
   },
   "outputs": [
    {
     "name": "stdout",
     "output_type": "stream",
     "text": [
      "Mounted at /content/drive\n"
     ]
    }
   ],
   "source": [
    "from google.colab import drive\n",
    "drive.mount('/content/drive',force_remount=True)"
   ]
  },
  {
   "cell_type": "code",
   "execution_count": 2,
   "metadata": {
    "id": "1LvFy3pnHYL0"
   },
   "outputs": [],
   "source": [
    "import numpy as np\n",
    "import pandas as pd\n",
    "from tensorflow.keras.models import Sequential\n",
    "from tensorflow.keras.layers import LSTM\n",
    "from tensorflow.keras.layers import Dense,SimpleRNN\n",
    "from tensorflow.keras.layers import Flatten\n",
    "import matplotlib.pyplot as plt\n",
    "import warnings\n",
    "warnings.filterwarnings('ignore')\n",
    "%matplotlib inline"
   ]
  },
  {
   "cell_type": "code",
   "execution_count": 3,
   "metadata": {
    "id": "RzjIQn6THYQk"
   },
   "outputs": [],
   "source": [
    "plt.rcParams['figure.figsize'] = [15,8]"
   ]
  },
  {
   "cell_type": "code",
   "execution_count": 4,
   "metadata": {
    "colab": {
     "base_uri": "https://localhost:8080/",
     "height": 206
    },
    "id": "WyUaiivEHYTv",
    "outputId": "a00afbf7-2070-44bc-fce3-b33764f50ae3"
   },
   "outputs": [
    {
     "data": {
      "text/html": [
       "\n",
       "  <div id=\"df-81cbd941-0b19-4bc1-8e40-302b82ac8ceb\">\n",
       "    <div class=\"colab-df-container\">\n",
       "      <div>\n",
       "<style scoped>\n",
       "    .dataframe tbody tr th:only-of-type {\n",
       "        vertical-align: middle;\n",
       "    }\n",
       "\n",
       "    .dataframe tbody tr th {\n",
       "        vertical-align: top;\n",
       "    }\n",
       "\n",
       "    .dataframe thead th {\n",
       "        text-align: right;\n",
       "    }\n",
       "</style>\n",
       "<table border=\"1\" class=\"dataframe\">\n",
       "  <thead>\n",
       "    <tr style=\"text-align: right;\">\n",
       "      <th></th>\n",
       "      <th>DATE</th>\n",
       "      <th>Millions of Dollars</th>\n",
       "    </tr>\n",
       "  </thead>\n",
       "  <tbody>\n",
       "    <tr>\n",
       "      <th>0</th>\n",
       "      <td>1992-01-01</td>\n",
       "      <td>3459</td>\n",
       "    </tr>\n",
       "    <tr>\n",
       "      <th>1</th>\n",
       "      <td>1992-02-01</td>\n",
       "      <td>3458</td>\n",
       "    </tr>\n",
       "    <tr>\n",
       "      <th>2</th>\n",
       "      <td>1992-03-01</td>\n",
       "      <td>4002</td>\n",
       "    </tr>\n",
       "    <tr>\n",
       "      <th>3</th>\n",
       "      <td>1992-04-01</td>\n",
       "      <td>4564</td>\n",
       "    </tr>\n",
       "    <tr>\n",
       "      <th>4</th>\n",
       "      <td>1992-05-01</td>\n",
       "      <td>4221</td>\n",
       "    </tr>\n",
       "  </tbody>\n",
       "</table>\n",
       "</div>\n",
       "      <button class=\"colab-df-convert\" onclick=\"convertToInteractive('df-81cbd941-0b19-4bc1-8e40-302b82ac8ceb')\"\n",
       "              title=\"Convert this dataframe to an interactive table.\"\n",
       "              style=\"display:none;\">\n",
       "        \n",
       "  <svg xmlns=\"http://www.w3.org/2000/svg\" height=\"24px\"viewBox=\"0 0 24 24\"\n",
       "       width=\"24px\">\n",
       "    <path d=\"M0 0h24v24H0V0z\" fill=\"none\"/>\n",
       "    <path d=\"M18.56 5.44l.94 2.06.94-2.06 2.06-.94-2.06-.94-.94-2.06-.94 2.06-2.06.94zm-11 1L8.5 8.5l.94-2.06 2.06-.94-2.06-.94L8.5 2.5l-.94 2.06-2.06.94zm10 10l.94 2.06.94-2.06 2.06-.94-2.06-.94-.94-2.06-.94 2.06-2.06.94z\"/><path d=\"M17.41 7.96l-1.37-1.37c-.4-.4-.92-.59-1.43-.59-.52 0-1.04.2-1.43.59L10.3 9.45l-7.72 7.72c-.78.78-.78 2.05 0 2.83L4 21.41c.39.39.9.59 1.41.59.51 0 1.02-.2 1.41-.59l7.78-7.78 2.81-2.81c.8-.78.8-2.07 0-2.86zM5.41 20L4 18.59l7.72-7.72 1.47 1.35L5.41 20z\"/>\n",
       "  </svg>\n",
       "      </button>\n",
       "      \n",
       "  <style>\n",
       "    .colab-df-container {\n",
       "      display:flex;\n",
       "      flex-wrap:wrap;\n",
       "      gap: 12px;\n",
       "    }\n",
       "\n",
       "    .colab-df-convert {\n",
       "      background-color: #E8F0FE;\n",
       "      border: none;\n",
       "      border-radius: 50%;\n",
       "      cursor: pointer;\n",
       "      display: none;\n",
       "      fill: #1967D2;\n",
       "      height: 32px;\n",
       "      padding: 0 0 0 0;\n",
       "      width: 32px;\n",
       "    }\n",
       "\n",
       "    .colab-df-convert:hover {\n",
       "      background-color: #E2EBFA;\n",
       "      box-shadow: 0px 1px 2px rgba(60, 64, 67, 0.3), 0px 1px 3px 1px rgba(60, 64, 67, 0.15);\n",
       "      fill: #174EA6;\n",
       "    }\n",
       "\n",
       "    [theme=dark] .colab-df-convert {\n",
       "      background-color: #3B4455;\n",
       "      fill: #D2E3FC;\n",
       "    }\n",
       "\n",
       "    [theme=dark] .colab-df-convert:hover {\n",
       "      background-color: #434B5C;\n",
       "      box-shadow: 0px 1px 3px 1px rgba(0, 0, 0, 0.15);\n",
       "      filter: drop-shadow(0px 1px 2px rgba(0, 0, 0, 0.3));\n",
       "      fill: #FFFFFF;\n",
       "    }\n",
       "  </style>\n",
       "\n",
       "      <script>\n",
       "        const buttonEl =\n",
       "          document.querySelector('#df-81cbd941-0b19-4bc1-8e40-302b82ac8ceb button.colab-df-convert');\n",
       "        buttonEl.style.display =\n",
       "          google.colab.kernel.accessAllowed ? 'block' : 'none';\n",
       "\n",
       "        async function convertToInteractive(key) {\n",
       "          const element = document.querySelector('#df-81cbd941-0b19-4bc1-8e40-302b82ac8ceb');\n",
       "          const dataTable =\n",
       "            await google.colab.kernel.invokeFunction('convertToInteractive',\n",
       "                                                     [key], {});\n",
       "          if (!dataTable) return;\n",
       "\n",
       "          const docLinkHtml = 'Like what you see? Visit the ' +\n",
       "            '<a target=\"_blank\" href=https://colab.research.google.com/notebooks/data_table.ipynb>data table notebook</a>'\n",
       "            + ' to learn more about interactive tables.';\n",
       "          element.innerHTML = '';\n",
       "          dataTable['output_type'] = 'display_data';\n",
       "          await google.colab.output.renderOutput(dataTable, element);\n",
       "          const docLink = document.createElement('div');\n",
       "          docLink.innerHTML = docLinkHtml;\n",
       "          element.appendChild(docLink);\n",
       "        }\n",
       "      </script>\n",
       "    </div>\n",
       "  </div>\n",
       "  "
      ],
      "text/plain": [
       "         DATE  Millions of Dollars\n",
       "0  1992-01-01                 3459\n",
       "1  1992-02-01                 3458\n",
       "2  1992-03-01                 4002\n",
       "3  1992-04-01                 4564\n",
       "4  1992-05-01                 4221"
      ]
     },
     "execution_count": 4,
     "metadata": {},
     "output_type": "execute_result"
    }
   ],
   "source": [
    "df = pd.read_csv('/content/drive/MyDrive/Thesis datasets/Alcohol_Sales_Data.csv')\n",
    "df.head()"
   ]
  },
  {
   "cell_type": "code",
   "execution_count": 5,
   "metadata": {
    "colab": {
     "base_uri": "https://localhost:8080/",
     "height": 206
    },
    "id": "TuGEn8IDHYWh",
    "outputId": "e3cd4af7-518e-4d6f-f9a6-6ca6c03a8c08"
   },
   "outputs": [
    {
     "data": {
      "text/html": [
       "\n",
       "  <div id=\"df-295c3857-62bf-4f4b-bbcd-fa255a673ead\">\n",
       "    <div class=\"colab-df-container\">\n",
       "      <div>\n",
       "<style scoped>\n",
       "    .dataframe tbody tr th:only-of-type {\n",
       "        vertical-align: middle;\n",
       "    }\n",
       "\n",
       "    .dataframe tbody tr th {\n",
       "        vertical-align: top;\n",
       "    }\n",
       "\n",
       "    .dataframe thead th {\n",
       "        text-align: right;\n",
       "    }\n",
       "</style>\n",
       "<table border=\"1\" class=\"dataframe\">\n",
       "  <thead>\n",
       "    <tr style=\"text-align: right;\">\n",
       "      <th></th>\n",
       "      <th>DATE</th>\n",
       "      <th>Millions of Dollars</th>\n",
       "    </tr>\n",
       "  </thead>\n",
       "  <tbody>\n",
       "    <tr>\n",
       "      <th>352</th>\n",
       "      <td>2021-05-01</td>\n",
       "      <td>15499</td>\n",
       "    </tr>\n",
       "    <tr>\n",
       "      <th>353</th>\n",
       "      <td>2021-06-01</td>\n",
       "      <td>17830</td>\n",
       "    </tr>\n",
       "    <tr>\n",
       "      <th>354</th>\n",
       "      <td>2021-07-01</td>\n",
       "      <td>15742</td>\n",
       "    </tr>\n",
       "    <tr>\n",
       "      <th>355</th>\n",
       "      <td>2021-08-01</td>\n",
       "      <td>16142</td>\n",
       "    </tr>\n",
       "    <tr>\n",
       "      <th>356</th>\n",
       "      <td>2021-09-01</td>\n",
       "      <td>15772</td>\n",
       "    </tr>\n",
       "  </tbody>\n",
       "</table>\n",
       "</div>\n",
       "      <button class=\"colab-df-convert\" onclick=\"convertToInteractive('df-295c3857-62bf-4f4b-bbcd-fa255a673ead')\"\n",
       "              title=\"Convert this dataframe to an interactive table.\"\n",
       "              style=\"display:none;\">\n",
       "        \n",
       "  <svg xmlns=\"http://www.w3.org/2000/svg\" height=\"24px\"viewBox=\"0 0 24 24\"\n",
       "       width=\"24px\">\n",
       "    <path d=\"M0 0h24v24H0V0z\" fill=\"none\"/>\n",
       "    <path d=\"M18.56 5.44l.94 2.06.94-2.06 2.06-.94-2.06-.94-.94-2.06-.94 2.06-2.06.94zm-11 1L8.5 8.5l.94-2.06 2.06-.94-2.06-.94L8.5 2.5l-.94 2.06-2.06.94zm10 10l.94 2.06.94-2.06 2.06-.94-2.06-.94-.94-2.06-.94 2.06-2.06.94z\"/><path d=\"M17.41 7.96l-1.37-1.37c-.4-.4-.92-.59-1.43-.59-.52 0-1.04.2-1.43.59L10.3 9.45l-7.72 7.72c-.78.78-.78 2.05 0 2.83L4 21.41c.39.39.9.59 1.41.59.51 0 1.02-.2 1.41-.59l7.78-7.78 2.81-2.81c.8-.78.8-2.07 0-2.86zM5.41 20L4 18.59l7.72-7.72 1.47 1.35L5.41 20z\"/>\n",
       "  </svg>\n",
       "      </button>\n",
       "      \n",
       "  <style>\n",
       "    .colab-df-container {\n",
       "      display:flex;\n",
       "      flex-wrap:wrap;\n",
       "      gap: 12px;\n",
       "    }\n",
       "\n",
       "    .colab-df-convert {\n",
       "      background-color: #E8F0FE;\n",
       "      border: none;\n",
       "      border-radius: 50%;\n",
       "      cursor: pointer;\n",
       "      display: none;\n",
       "      fill: #1967D2;\n",
       "      height: 32px;\n",
       "      padding: 0 0 0 0;\n",
       "      width: 32px;\n",
       "    }\n",
       "\n",
       "    .colab-df-convert:hover {\n",
       "      background-color: #E2EBFA;\n",
       "      box-shadow: 0px 1px 2px rgba(60, 64, 67, 0.3), 0px 1px 3px 1px rgba(60, 64, 67, 0.15);\n",
       "      fill: #174EA6;\n",
       "    }\n",
       "\n",
       "    [theme=dark] .colab-df-convert {\n",
       "      background-color: #3B4455;\n",
       "      fill: #D2E3FC;\n",
       "    }\n",
       "\n",
       "    [theme=dark] .colab-df-convert:hover {\n",
       "      background-color: #434B5C;\n",
       "      box-shadow: 0px 1px 3px 1px rgba(0, 0, 0, 0.15);\n",
       "      filter: drop-shadow(0px 1px 2px rgba(0, 0, 0, 0.3));\n",
       "      fill: #FFFFFF;\n",
       "    }\n",
       "  </style>\n",
       "\n",
       "      <script>\n",
       "        const buttonEl =\n",
       "          document.querySelector('#df-295c3857-62bf-4f4b-bbcd-fa255a673ead button.colab-df-convert');\n",
       "        buttonEl.style.display =\n",
       "          google.colab.kernel.accessAllowed ? 'block' : 'none';\n",
       "\n",
       "        async function convertToInteractive(key) {\n",
       "          const element = document.querySelector('#df-295c3857-62bf-4f4b-bbcd-fa255a673ead');\n",
       "          const dataTable =\n",
       "            await google.colab.kernel.invokeFunction('convertToInteractive',\n",
       "                                                     [key], {});\n",
       "          if (!dataTable) return;\n",
       "\n",
       "          const docLinkHtml = 'Like what you see? Visit the ' +\n",
       "            '<a target=\"_blank\" href=https://colab.research.google.com/notebooks/data_table.ipynb>data table notebook</a>'\n",
       "            + ' to learn more about interactive tables.';\n",
       "          element.innerHTML = '';\n",
       "          dataTable['output_type'] = 'display_data';\n",
       "          await google.colab.output.renderOutput(dataTable, element);\n",
       "          const docLink = document.createElement('div');\n",
       "          docLink.innerHTML = docLinkHtml;\n",
       "          element.appendChild(docLink);\n",
       "        }\n",
       "      </script>\n",
       "    </div>\n",
       "  </div>\n",
       "  "
      ],
      "text/plain": [
       "           DATE  Millions of Dollars\n",
       "352  2021-05-01                15499\n",
       "353  2021-06-01                17830\n",
       "354  2021-07-01                15742\n",
       "355  2021-08-01                16142\n",
       "356  2021-09-01                15772"
      ]
     },
     "execution_count": 5,
     "metadata": {},
     "output_type": "execute_result"
    }
   ],
   "source": [
    "df.tail()"
   ]
  },
  {
   "cell_type": "code",
   "execution_count": 6,
   "metadata": {
    "colab": {
     "base_uri": "https://localhost:8080/"
    },
    "id": "4VyehgXSHYZQ",
    "outputId": "30c0e081-725e-45a3-958b-793d03281c69"
   },
   "outputs": [
    {
     "data": {
      "text/plain": [
       "(357, 2)"
      ]
     },
     "execution_count": 6,
     "metadata": {},
     "output_type": "execute_result"
    }
   ],
   "source": [
    "df.shape"
   ]
  },
  {
   "cell_type": "code",
   "execution_count": 7,
   "metadata": {
    "colab": {
     "base_uri": "https://localhost:8080/"
    },
    "id": "zB0P-lxwHYcF",
    "outputId": "d5ae89f5-4d09-4b20-9650-8846aee43419"
   },
   "outputs": [
    {
     "name": "stdout",
     "output_type": "stream",
     "text": [
      "<class 'pandas.core.frame.DataFrame'>\n",
      "RangeIndex: 357 entries, 0 to 356\n",
      "Data columns (total 2 columns):\n",
      " #   Column               Non-Null Count  Dtype \n",
      "---  ------               --------------  ----- \n",
      " 0   DATE                 357 non-null    object\n",
      " 1   Millions of Dollars  357 non-null    int64 \n",
      "dtypes: int64(1), object(1)\n",
      "memory usage: 5.7+ KB\n"
     ]
    }
   ],
   "source": [
    "df.info()"
   ]
  },
  {
   "cell_type": "code",
   "execution_count": 8,
   "metadata": {
    "colab": {
     "base_uri": "https://localhost:8080/"
    },
    "id": "ZMQ9j83THYex",
    "outputId": "13c7dc4d-fb33-428c-8c0a-edffc83a84c2"
   },
   "outputs": [
    {
     "data": {
      "text/plain": [
       "DATE                   0\n",
       "Millions of Dollars    0\n",
       "dtype: int64"
      ]
     },
     "execution_count": 8,
     "metadata": {},
     "output_type": "execute_result"
    }
   ],
   "source": [
    "df.isnull().sum()"
   ]
  },
  {
   "cell_type": "code",
   "execution_count": 9,
   "metadata": {
    "colab": {
     "base_uri": "https://localhost:8080/"
    },
    "id": "dmcyTHCdHYhc",
    "outputId": "b0096419-3ff1-40ea-f750-c3763f275f2b"
   },
   "outputs": [
    {
     "data": {
      "text/plain": [
       "DatetimeIndex(['1992-01-31', '1992-02-29', '1992-03-31', '1992-04-30',\n",
       "               '1992-05-31', '1992-06-30', '1992-07-31', '1992-08-31',\n",
       "               '1992-09-30', '1992-10-31',\n",
       "               ...\n",
       "               '2020-12-31', '2021-01-31', '2021-02-28', '2021-03-31',\n",
       "               '2021-04-30', '2021-05-31', '2021-06-30', '2021-07-31',\n",
       "               '2021-08-31', '2021-09-30'],\n",
       "              dtype='datetime64[ns]', length=357, freq='M')"
      ]
     },
     "execution_count": 9,
     "metadata": {},
     "output_type": "execute_result"
    }
   ],
   "source": [
    "time = pd.date_range(start='1/1/1992',end='09/30/2021',freq='M')\n",
    "time"
   ]
  },
  {
   "cell_type": "code",
   "execution_count": 10,
   "metadata": {
    "colab": {
     "base_uri": "https://localhost:8080/"
    },
    "id": "Tj_WuvMgHYkM",
    "outputId": "c34a9532-be6c-45bb-b57c-46caad6ebe83"
   },
   "outputs": [
    {
     "data": {
      "text/plain": [
       "357"
      ]
     },
     "execution_count": 10,
     "metadata": {},
     "output_type": "execute_result"
    }
   ],
   "source": [
    "len(time)"
   ]
  },
  {
   "cell_type": "code",
   "execution_count": 11,
   "metadata": {
    "id": "vmca3XjoHYmt"
   },
   "outputs": [],
   "source": [
    "df['time_stamp'] = pd.DataFrame(time)"
   ]
  },
  {
   "cell_type": "code",
   "execution_count": 12,
   "metadata": {
    "colab": {
     "base_uri": "https://localhost:8080/",
     "height": 206
    },
    "id": "Qyc3NsCgHYpT",
    "outputId": "fe27b039-2458-44c6-de34-c6bbe2d8b597"
   },
   "outputs": [
    {
     "data": {
      "text/html": [
       "\n",
       "  <div id=\"df-0b11d20e-d36a-475a-815e-f14fb6809340\">\n",
       "    <div class=\"colab-df-container\">\n",
       "      <div>\n",
       "<style scoped>\n",
       "    .dataframe tbody tr th:only-of-type {\n",
       "        vertical-align: middle;\n",
       "    }\n",
       "\n",
       "    .dataframe tbody tr th {\n",
       "        vertical-align: top;\n",
       "    }\n",
       "\n",
       "    .dataframe thead th {\n",
       "        text-align: right;\n",
       "    }\n",
       "</style>\n",
       "<table border=\"1\" class=\"dataframe\">\n",
       "  <thead>\n",
       "    <tr style=\"text-align: right;\">\n",
       "      <th></th>\n",
       "      <th>DATE</th>\n",
       "      <th>Millions of Dollars</th>\n",
       "      <th>time_stamp</th>\n",
       "    </tr>\n",
       "  </thead>\n",
       "  <tbody>\n",
       "    <tr>\n",
       "      <th>0</th>\n",
       "      <td>1992-01-01</td>\n",
       "      <td>3459</td>\n",
       "      <td>1992-01-31</td>\n",
       "    </tr>\n",
       "    <tr>\n",
       "      <th>1</th>\n",
       "      <td>1992-02-01</td>\n",
       "      <td>3458</td>\n",
       "      <td>1992-02-29</td>\n",
       "    </tr>\n",
       "    <tr>\n",
       "      <th>2</th>\n",
       "      <td>1992-03-01</td>\n",
       "      <td>4002</td>\n",
       "      <td>1992-03-31</td>\n",
       "    </tr>\n",
       "    <tr>\n",
       "      <th>3</th>\n",
       "      <td>1992-04-01</td>\n",
       "      <td>4564</td>\n",
       "      <td>1992-04-30</td>\n",
       "    </tr>\n",
       "    <tr>\n",
       "      <th>4</th>\n",
       "      <td>1992-05-01</td>\n",
       "      <td>4221</td>\n",
       "      <td>1992-05-31</td>\n",
       "    </tr>\n",
       "  </tbody>\n",
       "</table>\n",
       "</div>\n",
       "      <button class=\"colab-df-convert\" onclick=\"convertToInteractive('df-0b11d20e-d36a-475a-815e-f14fb6809340')\"\n",
       "              title=\"Convert this dataframe to an interactive table.\"\n",
       "              style=\"display:none;\">\n",
       "        \n",
       "  <svg xmlns=\"http://www.w3.org/2000/svg\" height=\"24px\"viewBox=\"0 0 24 24\"\n",
       "       width=\"24px\">\n",
       "    <path d=\"M0 0h24v24H0V0z\" fill=\"none\"/>\n",
       "    <path d=\"M18.56 5.44l.94 2.06.94-2.06 2.06-.94-2.06-.94-.94-2.06-.94 2.06-2.06.94zm-11 1L8.5 8.5l.94-2.06 2.06-.94-2.06-.94L8.5 2.5l-.94 2.06-2.06.94zm10 10l.94 2.06.94-2.06 2.06-.94-2.06-.94-.94-2.06-.94 2.06-2.06.94z\"/><path d=\"M17.41 7.96l-1.37-1.37c-.4-.4-.92-.59-1.43-.59-.52 0-1.04.2-1.43.59L10.3 9.45l-7.72 7.72c-.78.78-.78 2.05 0 2.83L4 21.41c.39.39.9.59 1.41.59.51 0 1.02-.2 1.41-.59l7.78-7.78 2.81-2.81c.8-.78.8-2.07 0-2.86zM5.41 20L4 18.59l7.72-7.72 1.47 1.35L5.41 20z\"/>\n",
       "  </svg>\n",
       "      </button>\n",
       "      \n",
       "  <style>\n",
       "    .colab-df-container {\n",
       "      display:flex;\n",
       "      flex-wrap:wrap;\n",
       "      gap: 12px;\n",
       "    }\n",
       "\n",
       "    .colab-df-convert {\n",
       "      background-color: #E8F0FE;\n",
       "      border: none;\n",
       "      border-radius: 50%;\n",
       "      cursor: pointer;\n",
       "      display: none;\n",
       "      fill: #1967D2;\n",
       "      height: 32px;\n",
       "      padding: 0 0 0 0;\n",
       "      width: 32px;\n",
       "    }\n",
       "\n",
       "    .colab-df-convert:hover {\n",
       "      background-color: #E2EBFA;\n",
       "      box-shadow: 0px 1px 2px rgba(60, 64, 67, 0.3), 0px 1px 3px 1px rgba(60, 64, 67, 0.15);\n",
       "      fill: #174EA6;\n",
       "    }\n",
       "\n",
       "    [theme=dark] .colab-df-convert {\n",
       "      background-color: #3B4455;\n",
       "      fill: #D2E3FC;\n",
       "    }\n",
       "\n",
       "    [theme=dark] .colab-df-convert:hover {\n",
       "      background-color: #434B5C;\n",
       "      box-shadow: 0px 1px 3px 1px rgba(0, 0, 0, 0.15);\n",
       "      filter: drop-shadow(0px 1px 2px rgba(0, 0, 0, 0.3));\n",
       "      fill: #FFFFFF;\n",
       "    }\n",
       "  </style>\n",
       "\n",
       "      <script>\n",
       "        const buttonEl =\n",
       "          document.querySelector('#df-0b11d20e-d36a-475a-815e-f14fb6809340 button.colab-df-convert');\n",
       "        buttonEl.style.display =\n",
       "          google.colab.kernel.accessAllowed ? 'block' : 'none';\n",
       "\n",
       "        async function convertToInteractive(key) {\n",
       "          const element = document.querySelector('#df-0b11d20e-d36a-475a-815e-f14fb6809340');\n",
       "          const dataTable =\n",
       "            await google.colab.kernel.invokeFunction('convertToInteractive',\n",
       "                                                     [key], {});\n",
       "          if (!dataTable) return;\n",
       "\n",
       "          const docLinkHtml = 'Like what you see? Visit the ' +\n",
       "            '<a target=\"_blank\" href=https://colab.research.google.com/notebooks/data_table.ipynb>data table notebook</a>'\n",
       "            + ' to learn more about interactive tables.';\n",
       "          element.innerHTML = '';\n",
       "          dataTable['output_type'] = 'display_data';\n",
       "          await google.colab.output.renderOutput(dataTable, element);\n",
       "          const docLink = document.createElement('div');\n",
       "          docLink.innerHTML = docLinkHtml;\n",
       "          element.appendChild(docLink);\n",
       "        }\n",
       "      </script>\n",
       "    </div>\n",
       "  </div>\n",
       "  "
      ],
      "text/plain": [
       "         DATE  Millions of Dollars time_stamp\n",
       "0  1992-01-01                 3459 1992-01-31\n",
       "1  1992-02-01                 3458 1992-02-29\n",
       "2  1992-03-01                 4002 1992-03-31\n",
       "3  1992-04-01                 4564 1992-04-30\n",
       "4  1992-05-01                 4221 1992-05-31"
      ]
     },
     "execution_count": 12,
     "metadata": {},
     "output_type": "execute_result"
    }
   ],
   "source": [
    "df.head()"
   ]
  },
  {
   "cell_type": "code",
   "execution_count": 13,
   "metadata": {
    "colab": {
     "base_uri": "https://localhost:8080/",
     "height": 206
    },
    "id": "jaVhnK1PLne8",
    "outputId": "4c2a49e8-df98-44ae-f986-52abd3685d17"
   },
   "outputs": [
    {
     "data": {
      "text/html": [
       "\n",
       "  <div id=\"df-94cab864-c6f3-4a30-98a6-f5ad99a4cc3d\">\n",
       "    <div class=\"colab-df-container\">\n",
       "      <div>\n",
       "<style scoped>\n",
       "    .dataframe tbody tr th:only-of-type {\n",
       "        vertical-align: middle;\n",
       "    }\n",
       "\n",
       "    .dataframe tbody tr th {\n",
       "        vertical-align: top;\n",
       "    }\n",
       "\n",
       "    .dataframe thead th {\n",
       "        text-align: right;\n",
       "    }\n",
       "</style>\n",
       "<table border=\"1\" class=\"dataframe\">\n",
       "  <thead>\n",
       "    <tr style=\"text-align: right;\">\n",
       "      <th></th>\n",
       "      <th>DATE</th>\n",
       "      <th>Millions of Dollars</th>\n",
       "      <th>time_stamp</th>\n",
       "    </tr>\n",
       "  </thead>\n",
       "  <tbody>\n",
       "    <tr>\n",
       "      <th>352</th>\n",
       "      <td>2021-05-01</td>\n",
       "      <td>15499</td>\n",
       "      <td>2021-05-31</td>\n",
       "    </tr>\n",
       "    <tr>\n",
       "      <th>353</th>\n",
       "      <td>2021-06-01</td>\n",
       "      <td>17830</td>\n",
       "      <td>2021-06-30</td>\n",
       "    </tr>\n",
       "    <tr>\n",
       "      <th>354</th>\n",
       "      <td>2021-07-01</td>\n",
       "      <td>15742</td>\n",
       "      <td>2021-07-31</td>\n",
       "    </tr>\n",
       "    <tr>\n",
       "      <th>355</th>\n",
       "      <td>2021-08-01</td>\n",
       "      <td>16142</td>\n",
       "      <td>2021-08-31</td>\n",
       "    </tr>\n",
       "    <tr>\n",
       "      <th>356</th>\n",
       "      <td>2021-09-01</td>\n",
       "      <td>15772</td>\n",
       "      <td>2021-09-30</td>\n",
       "    </tr>\n",
       "  </tbody>\n",
       "</table>\n",
       "</div>\n",
       "      <button class=\"colab-df-convert\" onclick=\"convertToInteractive('df-94cab864-c6f3-4a30-98a6-f5ad99a4cc3d')\"\n",
       "              title=\"Convert this dataframe to an interactive table.\"\n",
       "              style=\"display:none;\">\n",
       "        \n",
       "  <svg xmlns=\"http://www.w3.org/2000/svg\" height=\"24px\"viewBox=\"0 0 24 24\"\n",
       "       width=\"24px\">\n",
       "    <path d=\"M0 0h24v24H0V0z\" fill=\"none\"/>\n",
       "    <path d=\"M18.56 5.44l.94 2.06.94-2.06 2.06-.94-2.06-.94-.94-2.06-.94 2.06-2.06.94zm-11 1L8.5 8.5l.94-2.06 2.06-.94-2.06-.94L8.5 2.5l-.94 2.06-2.06.94zm10 10l.94 2.06.94-2.06 2.06-.94-2.06-.94-.94-2.06-.94 2.06-2.06.94z\"/><path d=\"M17.41 7.96l-1.37-1.37c-.4-.4-.92-.59-1.43-.59-.52 0-1.04.2-1.43.59L10.3 9.45l-7.72 7.72c-.78.78-.78 2.05 0 2.83L4 21.41c.39.39.9.59 1.41.59.51 0 1.02-.2 1.41-.59l7.78-7.78 2.81-2.81c.8-.78.8-2.07 0-2.86zM5.41 20L4 18.59l7.72-7.72 1.47 1.35L5.41 20z\"/>\n",
       "  </svg>\n",
       "      </button>\n",
       "      \n",
       "  <style>\n",
       "    .colab-df-container {\n",
       "      display:flex;\n",
       "      flex-wrap:wrap;\n",
       "      gap: 12px;\n",
       "    }\n",
       "\n",
       "    .colab-df-convert {\n",
       "      background-color: #E8F0FE;\n",
       "      border: none;\n",
       "      border-radius: 50%;\n",
       "      cursor: pointer;\n",
       "      display: none;\n",
       "      fill: #1967D2;\n",
       "      height: 32px;\n",
       "      padding: 0 0 0 0;\n",
       "      width: 32px;\n",
       "    }\n",
       "\n",
       "    .colab-df-convert:hover {\n",
       "      background-color: #E2EBFA;\n",
       "      box-shadow: 0px 1px 2px rgba(60, 64, 67, 0.3), 0px 1px 3px 1px rgba(60, 64, 67, 0.15);\n",
       "      fill: #174EA6;\n",
       "    }\n",
       "\n",
       "    [theme=dark] .colab-df-convert {\n",
       "      background-color: #3B4455;\n",
       "      fill: #D2E3FC;\n",
       "    }\n",
       "\n",
       "    [theme=dark] .colab-df-convert:hover {\n",
       "      background-color: #434B5C;\n",
       "      box-shadow: 0px 1px 3px 1px rgba(0, 0, 0, 0.15);\n",
       "      filter: drop-shadow(0px 1px 2px rgba(0, 0, 0, 0.3));\n",
       "      fill: #FFFFFF;\n",
       "    }\n",
       "  </style>\n",
       "\n",
       "      <script>\n",
       "        const buttonEl =\n",
       "          document.querySelector('#df-94cab864-c6f3-4a30-98a6-f5ad99a4cc3d button.colab-df-convert');\n",
       "        buttonEl.style.display =\n",
       "          google.colab.kernel.accessAllowed ? 'block' : 'none';\n",
       "\n",
       "        async function convertToInteractive(key) {\n",
       "          const element = document.querySelector('#df-94cab864-c6f3-4a30-98a6-f5ad99a4cc3d');\n",
       "          const dataTable =\n",
       "            await google.colab.kernel.invokeFunction('convertToInteractive',\n",
       "                                                     [key], {});\n",
       "          if (!dataTable) return;\n",
       "\n",
       "          const docLinkHtml = 'Like what you see? Visit the ' +\n",
       "            '<a target=\"_blank\" href=https://colab.research.google.com/notebooks/data_table.ipynb>data table notebook</a>'\n",
       "            + ' to learn more about interactive tables.';\n",
       "          element.innerHTML = '';\n",
       "          dataTable['output_type'] = 'display_data';\n",
       "          await google.colab.output.renderOutput(dataTable, element);\n",
       "          const docLink = document.createElement('div');\n",
       "          docLink.innerHTML = docLinkHtml;\n",
       "          element.appendChild(docLink);\n",
       "        }\n",
       "      </script>\n",
       "    </div>\n",
       "  </div>\n",
       "  "
      ],
      "text/plain": [
       "           DATE  Millions of Dollars time_stamp\n",
       "352  2021-05-01                15499 2021-05-31\n",
       "353  2021-06-01                17830 2021-06-30\n",
       "354  2021-07-01                15742 2021-07-31\n",
       "355  2021-08-01                16142 2021-08-31\n",
       "356  2021-09-01                15772 2021-09-30"
      ]
     },
     "execution_count": 13,
     "metadata": {},
     "output_type": "execute_result"
    }
   ],
   "source": [
    "df.tail()"
   ]
  },
  {
   "cell_type": "code",
   "execution_count": 14,
   "metadata": {
    "id": "6Yh7cEyRLniB"
   },
   "outputs": [],
   "source": [
    "df.drop('DATE',axis=1,inplace=True)\n",
    "df = df.set_index('time_stamp')"
   ]
  },
  {
   "cell_type": "code",
   "execution_count": 18,
   "metadata": {
    "id": "u-BdyuBd632l"
   },
   "outputs": [],
   "source": [
    "df.columns = ['Millions_of_Dollars']"
   ]
  },
  {
   "cell_type": "code",
   "execution_count": 19,
   "metadata": {
    "colab": {
     "base_uri": "https://localhost:8080/",
     "height": 238
    },
    "id": "nmXeM9jELnlB",
    "outputId": "d8b40b5d-aa5c-4b16-b052-90447e3595dd"
   },
   "outputs": [
    {
     "data": {
      "text/html": [
       "\n",
       "  <div id=\"df-e50fc9d2-5ea6-4f25-92a7-37f043a755a6\">\n",
       "    <div class=\"colab-df-container\">\n",
       "      <div>\n",
       "<style scoped>\n",
       "    .dataframe tbody tr th:only-of-type {\n",
       "        vertical-align: middle;\n",
       "    }\n",
       "\n",
       "    .dataframe tbody tr th {\n",
       "        vertical-align: top;\n",
       "    }\n",
       "\n",
       "    .dataframe thead th {\n",
       "        text-align: right;\n",
       "    }\n",
       "</style>\n",
       "<table border=\"1\" class=\"dataframe\">\n",
       "  <thead>\n",
       "    <tr style=\"text-align: right;\">\n",
       "      <th></th>\n",
       "      <th>Millions_of_Dollars</th>\n",
       "    </tr>\n",
       "    <tr>\n",
       "      <th>time_stamp</th>\n",
       "      <th></th>\n",
       "    </tr>\n",
       "  </thead>\n",
       "  <tbody>\n",
       "    <tr>\n",
       "      <th>1992-01-31</th>\n",
       "      <td>3459</td>\n",
       "    </tr>\n",
       "    <tr>\n",
       "      <th>1992-02-29</th>\n",
       "      <td>3458</td>\n",
       "    </tr>\n",
       "    <tr>\n",
       "      <th>1992-03-31</th>\n",
       "      <td>4002</td>\n",
       "    </tr>\n",
       "    <tr>\n",
       "      <th>1992-04-30</th>\n",
       "      <td>4564</td>\n",
       "    </tr>\n",
       "    <tr>\n",
       "      <th>1992-05-31</th>\n",
       "      <td>4221</td>\n",
       "    </tr>\n",
       "  </tbody>\n",
       "</table>\n",
       "</div>\n",
       "      <button class=\"colab-df-convert\" onclick=\"convertToInteractive('df-e50fc9d2-5ea6-4f25-92a7-37f043a755a6')\"\n",
       "              title=\"Convert this dataframe to an interactive table.\"\n",
       "              style=\"display:none;\">\n",
       "        \n",
       "  <svg xmlns=\"http://www.w3.org/2000/svg\" height=\"24px\"viewBox=\"0 0 24 24\"\n",
       "       width=\"24px\">\n",
       "    <path d=\"M0 0h24v24H0V0z\" fill=\"none\"/>\n",
       "    <path d=\"M18.56 5.44l.94 2.06.94-2.06 2.06-.94-2.06-.94-.94-2.06-.94 2.06-2.06.94zm-11 1L8.5 8.5l.94-2.06 2.06-.94-2.06-.94L8.5 2.5l-.94 2.06-2.06.94zm10 10l.94 2.06.94-2.06 2.06-.94-2.06-.94-.94-2.06-.94 2.06-2.06.94z\"/><path d=\"M17.41 7.96l-1.37-1.37c-.4-.4-.92-.59-1.43-.59-.52 0-1.04.2-1.43.59L10.3 9.45l-7.72 7.72c-.78.78-.78 2.05 0 2.83L4 21.41c.39.39.9.59 1.41.59.51 0 1.02-.2 1.41-.59l7.78-7.78 2.81-2.81c.8-.78.8-2.07 0-2.86zM5.41 20L4 18.59l7.72-7.72 1.47 1.35L5.41 20z\"/>\n",
       "  </svg>\n",
       "      </button>\n",
       "      \n",
       "  <style>\n",
       "    .colab-df-container {\n",
       "      display:flex;\n",
       "      flex-wrap:wrap;\n",
       "      gap: 12px;\n",
       "    }\n",
       "\n",
       "    .colab-df-convert {\n",
       "      background-color: #E8F0FE;\n",
       "      border: none;\n",
       "      border-radius: 50%;\n",
       "      cursor: pointer;\n",
       "      display: none;\n",
       "      fill: #1967D2;\n",
       "      height: 32px;\n",
       "      padding: 0 0 0 0;\n",
       "      width: 32px;\n",
       "    }\n",
       "\n",
       "    .colab-df-convert:hover {\n",
       "      background-color: #E2EBFA;\n",
       "      box-shadow: 0px 1px 2px rgba(60, 64, 67, 0.3), 0px 1px 3px 1px rgba(60, 64, 67, 0.15);\n",
       "      fill: #174EA6;\n",
       "    }\n",
       "\n",
       "    [theme=dark] .colab-df-convert {\n",
       "      background-color: #3B4455;\n",
       "      fill: #D2E3FC;\n",
       "    }\n",
       "\n",
       "    [theme=dark] .colab-df-convert:hover {\n",
       "      background-color: #434B5C;\n",
       "      box-shadow: 0px 1px 3px 1px rgba(0, 0, 0, 0.15);\n",
       "      filter: drop-shadow(0px 1px 2px rgba(0, 0, 0, 0.3));\n",
       "      fill: #FFFFFF;\n",
       "    }\n",
       "  </style>\n",
       "\n",
       "      <script>\n",
       "        const buttonEl =\n",
       "          document.querySelector('#df-e50fc9d2-5ea6-4f25-92a7-37f043a755a6 button.colab-df-convert');\n",
       "        buttonEl.style.display =\n",
       "          google.colab.kernel.accessAllowed ? 'block' : 'none';\n",
       "\n",
       "        async function convertToInteractive(key) {\n",
       "          const element = document.querySelector('#df-e50fc9d2-5ea6-4f25-92a7-37f043a755a6');\n",
       "          const dataTable =\n",
       "            await google.colab.kernel.invokeFunction('convertToInteractive',\n",
       "                                                     [key], {});\n",
       "          if (!dataTable) return;\n",
       "\n",
       "          const docLinkHtml = 'Like what you see? Visit the ' +\n",
       "            '<a target=\"_blank\" href=https://colab.research.google.com/notebooks/data_table.ipynb>data table notebook</a>'\n",
       "            + ' to learn more about interactive tables.';\n",
       "          element.innerHTML = '';\n",
       "          dataTable['output_type'] = 'display_data';\n",
       "          await google.colab.output.renderOutput(dataTable, element);\n",
       "          const docLink = document.createElement('div');\n",
       "          docLink.innerHTML = docLinkHtml;\n",
       "          element.appendChild(docLink);\n",
       "        }\n",
       "      </script>\n",
       "    </div>\n",
       "  </div>\n",
       "  "
      ],
      "text/plain": [
       "            Millions_of_Dollars\n",
       "time_stamp                     \n",
       "1992-01-31                 3459\n",
       "1992-02-29                 3458\n",
       "1992-03-31                 4002\n",
       "1992-04-30                 4564\n",
       "1992-05-31                 4221"
      ]
     },
     "execution_count": 19,
     "metadata": {},
     "output_type": "execute_result"
    }
   ],
   "source": [
    "df.head()"
   ]
  },
  {
   "cell_type": "code",
   "execution_count": 20,
   "metadata": {
    "colab": {
     "base_uri": "https://localhost:8080/",
     "height": 483
    },
    "id": "SPgnzA_KLnnx",
    "outputId": "607f8b77-1bf3-4fa4-c4cf-60fb0a1fe329"
   },
   "outputs": [
    {
     "data": {
      "image/png": "[encoded data removed]",
      "text/plain": [
       "<Figure size 1080x576 with 1 Axes>"
      ]
     },
     "metadata": {
      "needs_background": "light"
     },
     "output_type": "display_data"
    }
   ],
   "source": [
    "plt.plot(df)\n",
    "plt.show()"
   ]
  },
  {
   "cell_type": "code",
   "execution_count": 206,
   "metadata": {
    "id": "5pI9yMTRLnqv"
   },
   "outputs": [],
   "source": [
    "def convert2matrix(data_arr, look_back):\n",
    "    X, Y =[], []\n",
    "    for i in range(len(data_arr)-look_back):\n",
    "        d=i+look_back  \n",
    "        X.append(data_arr[i:d,])\n",
    "        Y.append(data_arr[d,])\n",
    "    return np.array(X), np.array(Y)"
   ]
  },
  {
   "cell_type": "code",
   "execution_count": 207,
   "metadata": {
    "id": "bxKNWzo66xwk"
   },
   "outputs": [],
   "source": [
    "from sklearn.preprocessing import MinMaxScaler\n",
    "#create numpy.ndarray \n",
    "df['Millions_of_Dollars'] = df['Millions_of_Dollars'].astype(np.float32)\n",
    "df_arr = df.values\n",
    "df_arr = np.reshape(df_arr, (-1, 1))\n",
    "scaler = MinMaxScaler(feature_range=(0.1, 1))\n",
    "df_arr = scaler.fit_transform(df_arr)"
   ]
  },
  {
   "cell_type": "code",
   "execution_count": 208,
   "metadata": {
    "id": "CLa7dCj6Lnto"
   },
   "outputs": [],
   "source": [
    "#Split data set into testing dataset and train dataset\n",
    "train_size = 310\n",
    "train, test =df_arr[0:train_size,:],df_arr[train_size:len(df_arr),:]\n",
    "# setup look_back window \n",
    "look_back = 12\n",
    "#convert dataset into right shape in order to input into the DNN\n",
    "trainX, trainY = convert2matrix(train, look_back)\n",
    "testX, testY = convert2matrix(test, look_back)\n",
    "trainX = np.reshape(trainX, (trainX.shape[0], 1, trainX.shape[1]))\n",
    "testX = np.reshape(testX, (testX.shape[0], 1, testX.shape[1]))"
   ]
  },
  {
   "cell_type": "code",
   "execution_count": 123,
   "metadata": {
    "colab": {
     "base_uri": "https://localhost:8080/"
    },
    "id": "kwlZ5n8NLnwd",
    "outputId": "3d2dc020-745a-4345-db75-d2775279c093"
   },
   "outputs": [
    {
     "name": "stdout",
     "output_type": "stream",
     "text": [
      "(298, 1, 12)\n",
      "(298, 1)\n",
      "(35, 1, 12)\n",
      "(35, 1)\n"
     ]
    }
   ],
   "source": [
    "print(trainX.shape)\n",
    "print(trainY.shape)\n",
    "print(testX.shape)\n",
    "print(testY.shape)"
   ]
  },
  {
   "cell_type": "markdown",
   "metadata": {
    "id": "zS0FM-23NfGZ"
   },
   "source": [
    "### Hypertuning"
   ]
  },
  {
   "cell_type": "code",
   "execution_count": 24,
   "metadata": {
    "colab": {
     "base_uri": "https://localhost:8080/"
    },
    "id": "WV6_Kb2yLnzO",
    "outputId": "e6207800-ab43-44fb-8188-590dbfd21499"
   },
   "outputs": [
    {
     "name": "stdout",
     "output_type": "stream",
     "text": [
      "\u001b[?25l\r",
      "\u001b[K     |██▌                             | 10 kB 23.7 MB/s eta 0:00:01\r",
      "\u001b[K     |█████                           | 20 kB 27.0 MB/s eta 0:00:01\r",
      "\u001b[K     |███████▍                        | 30 kB 20.7 MB/s eta 0:00:01\r",
      "\u001b[K     |█████████▉                      | 40 kB 6.8 MB/s eta 0:00:01\r",
      "\u001b[K     |████████████▎                   | 51 kB 6.6 MB/s eta 0:00:01\r",
      "\u001b[K     |██████████████▊                 | 61 kB 7.7 MB/s eta 0:00:01\r",
      "\u001b[K     |█████████████████▏              | 71 kB 7.7 MB/s eta 0:00:01\r",
      "\u001b[K     |███████████████████▋            | 81 kB 7.4 MB/s eta 0:00:01\r",
      "\u001b[K     |██████████████████████          | 92 kB 8.1 MB/s eta 0:00:01\r",
      "\u001b[K     |████████████████████████▌       | 102 kB 7.2 MB/s eta 0:00:01\r",
      "\u001b[K     |███████████████████████████     | 112 kB 7.2 MB/s eta 0:00:01\r",
      "\u001b[K     |█████████████████████████████▌  | 122 kB 7.2 MB/s eta 0:00:01\r",
      "\u001b[K     |████████████████████████████████| 133 kB 7.2 MB/s eta 0:00:01\r",
      "\u001b[K     |████████████████████████████████| 133 kB 7.2 MB/s \n",
      "\u001b[?25h"
     ]
    }
   ],
   "source": [
    "!pip install -q -U keras-tuner"
   ]
  },
  {
   "cell_type": "code",
   "execution_count": 25,
   "metadata": {
    "id": "E0Nt7JY4Ln1-"
   },
   "outputs": [],
   "source": [
    "import pandas as pd\n",
    "from tensorflow import keras\n",
    "from tensorflow.keras import layers\n",
    "from keras_tuner.tuners import RandomSearch"
   ]
  },
  {
   "cell_type": "code",
   "execution_count": 169,
   "metadata": {
    "id": "l2T7eUUYLn4s"
   },
   "outputs": [],
   "source": [
    "from tensorflow.keras.models import Sequential\n",
    "from tensorflow.keras.layers import LSTM\n",
    "from tensorflow.keras.layers import Dense,SimpleRNN,Dropout,BatchNormalization,LeakyReLU,Bidirectional\n",
    "from tensorflow.keras.layers import Flatten\n",
    "import matplotlib.pyplot as plt"
   ]
  },
  {
   "cell_type": "code",
   "execution_count": 28,
   "metadata": {
    "id": "AVEn-tORLn7b"
   },
   "outputs": [],
   "source": [
    "def build_model(hp):\n",
    "    model = keras.Sequential()\n",
    "    model.add(SimpleRNN(hp.Int('rnn_layer_1',min_value=8,max_value=512,step=8), activation=\"relu\",input_shape=(1,look_back),recurrent_dropout = hp.Choice(\"recurrent_dropout\",[0.1,0.2,0.4],default=0.2)))\n",
    "    model.add(Dense(hp.Int('dense_layer_1',min_value=8,max_value=96,step=8),activation=\"relu\"))\n",
    "    model.add(Dropout(hp.Float('Dropout_rate',min_value=0,max_value=0.5,step=0.1)))\n",
    "    model.add(layers.Dense(1, activation='linear'))\n",
    "    model.compile(\n",
    "        optimizer=keras.optimizers.Adam(\n",
    "             hp.Float('learning_rate', min_value=1e-4, max_value=1e-1, sampling=\"log\")),\n",
    "        loss='mape',\n",
    "        metrics=['mape'])\n",
    "    return model"
   ]
  },
  {
   "cell_type": "code",
   "execution_count": 29,
   "metadata": {
    "id": "mJhevrcMLn97"
   },
   "outputs": [],
   "source": [
    "tuner = RandomSearch(\n",
    "    build_model,\n",
    "    objective='val_mape',\n",
    "    max_trials=20,\n",
    "    executions_per_trial=1,\n",
    "    directory='project',\n",
    "    project_name='Alcohol Sales_10')"
   ]
  },
  {
   "cell_type": "code",
   "execution_count": 30,
   "metadata": {
    "colab": {
     "base_uri": "https://localhost:8080/"
    },
    "id": "p15XeAt3hatM",
    "outputId": "35934846-6b73-4bc3-efef-52bde31db50c"
   },
   "outputs": [
    {
     "name": "stdout",
     "output_type": "stream",
     "text": [
      "Search space summary\n",
      "Default search space size: 5\n",
      "rnn_layer_1 (Int)\n",
      "{'default': None, 'conditions': [], 'min_value': 8, 'max_value': 512, 'step': 8, 'sampling': None}\n",
      "recurrent_dropout (Choice)\n",
      "{'default': 0.2, 'conditions': [], 'values': [0.1, 0.2, 0.4], 'ordered': True}\n",
      "dense_layer_1 (Int)\n",
      "{'default': None, 'conditions': [], 'min_value': 8, 'max_value': 96, 'step': 8, 'sampling': None}\n",
      "Dropout_rate (Float)\n",
      "{'default': 0.0, 'conditions': [], 'min_value': 0.0, 'max_value': 0.5, 'step': 0.1, 'sampling': None}\n",
      "learning_rate (Float)\n",
      "{'default': 0.0001, 'conditions': [], 'min_value': 0.0001, 'max_value': 0.1, 'step': None, 'sampling': 'log'}\n"
     ]
    }
   ],
   "source": [
    "tuner.search_space_summary()"
   ]
  },
  {
   "cell_type": "code",
   "execution_count": 31,
   "metadata": {
    "colab": {
     "base_uri": "https://localhost:8080/"
    },
    "id": "aYPHhnPyhawL",
    "outputId": "c04b7548-e18c-468a-e71a-4599bc522c05"
   },
   "outputs": [
    {
     "name": "stdout",
     "output_type": "stream",
     "text": [
      "Trial 20 Complete [00h 01m 23s]\n",
      "val_mape: 4.900360584259033\n",
      "\n",
      "Best val_mape So Far: 4.186341762542725\n",
      "Total elapsed time: 00h 15m 42s\n",
      "INFO:tensorflow:Oracle triggered exit\n"
     ]
    }
   ],
   "source": [
    "tuner.search(trainX, trainY,\n",
    "             epochs=500,\n",
    "             batch_size=34,\n",
    "             validation_data=(testX, testY))"
   ]
  },
  {
   "cell_type": "code",
   "execution_count": 32,
   "metadata": {
    "colab": {
     "base_uri": "https://localhost:8080/"
    },
    "id": "FymIV1iehazJ",
    "outputId": "84de6396-35c8-4726-9605-1b31f89d7205"
   },
   "outputs": [
    {
     "name": "stdout",
     "output_type": "stream",
     "text": [
      "Results summary\n",
      "Results in project/Alcohol Sales_10\n",
      "Showing 10 best trials\n",
      "<keras_tuner.engine.objective.Objective object at 0x7fdf075f7690>\n",
      "Trial summary\n",
      "Hyperparameters:\n",
      "rnn_layer_1: 328\n",
      "recurrent_dropout: 0.4\n",
      "dense_layer_1: 48\n",
      "Dropout_rate: 0.1\n",
      "learning_rate: 0.005384998106834072\n",
      "Score: 4.186341762542725\n",
      "Trial summary\n",
      "Hyperparameters:\n",
      "rnn_layer_1: 312\n",
      "recurrent_dropout: 0.2\n",
      "dense_layer_1: 48\n",
      "Dropout_rate: 0.30000000000000004\n",
      "learning_rate: 0.0013667461891395099\n",
      "Score: 4.258920669555664\n",
      "Trial summary\n",
      "Hyperparameters:\n",
      "rnn_layer_1: 368\n",
      "recurrent_dropout: 0.1\n",
      "dense_layer_1: 40\n",
      "Dropout_rate: 0.30000000000000004\n",
      "learning_rate: 0.00026666700869968474\n",
      "Score: 4.443235397338867\n",
      "Trial summary\n",
      "Hyperparameters:\n",
      "rnn_layer_1: 360\n",
      "recurrent_dropout: 0.1\n",
      "dense_layer_1: 72\n",
      "Dropout_rate: 0.2\n",
      "learning_rate: 0.0002233965206943034\n",
      "Score: 4.460811614990234\n",
      "Trial summary\n",
      "Hyperparameters:\n",
      "rnn_layer_1: 496\n",
      "recurrent_dropout: 0.1\n",
      "dense_layer_1: 96\n",
      "Dropout_rate: 0.30000000000000004\n",
      "learning_rate: 0.0035592255234241487\n",
      "Score: 4.6230573654174805\n",
      "Trial summary\n",
      "Hyperparameters:\n",
      "rnn_layer_1: 56\n",
      "recurrent_dropout: 0.4\n",
      "dense_layer_1: 80\n",
      "Dropout_rate: 0.0\n",
      "learning_rate: 0.0004973048925871489\n",
      "Score: 4.649927616119385\n",
      "Trial summary\n",
      "Hyperparameters:\n",
      "rnn_layer_1: 512\n",
      "recurrent_dropout: 0.1\n",
      "dense_layer_1: 24\n",
      "Dropout_rate: 0.2\n",
      "learning_rate: 0.0006506260999887952\n",
      "Score: 4.778347015380859\n",
      "Trial summary\n",
      "Hyperparameters:\n",
      "rnn_layer_1: 432\n",
      "recurrent_dropout: 0.4\n",
      "dense_layer_1: 64\n",
      "Dropout_rate: 0.4\n",
      "learning_rate: 0.00010151307172601772\n",
      "Score: 4.900360584259033\n",
      "Trial summary\n",
      "Hyperparameters:\n",
      "rnn_layer_1: 8\n",
      "recurrent_dropout: 0.1\n",
      "dense_layer_1: 56\n",
      "Dropout_rate: 0.2\n",
      "learning_rate: 0.0017582830568982557\n",
      "Score: 5.1087236404418945\n",
      "Trial summary\n",
      "Hyperparameters:\n",
      "rnn_layer_1: 200\n",
      "recurrent_dropout: 0.4\n",
      "dense_layer_1: 32\n",
      "Dropout_rate: 0.5\n",
      "learning_rate: 0.035449845456566265\n",
      "Score: 5.133888244628906\n"
     ]
    }
   ],
   "source": [
    "tuner.results_summary()"
   ]
  },
  {
   "cell_type": "code",
   "execution_count": 33,
   "metadata": {
    "colab": {
     "base_uri": "https://localhost:8080/"
    },
    "id": "lLexuiVQhbEf",
    "outputId": "0a72abdb-c791-4197-b18e-7fd99463e5d0"
   },
   "outputs": [
    {
     "name": "stdout",
     "output_type": "stream",
     "text": [
      "Model: \"sequential\"\n",
      "_________________________________________________________________\n",
      " Layer (type)                Output Shape              Param #   \n",
      "=================================================================\n",
      " simple_rnn (SimpleRNN)      (None, 328)               111848    \n",
      "                                                                 \n",
      " dense (Dense)               (None, 48)                15792     \n",
      "                                                                 \n",
      " dropout (Dropout)           (None, 48)                0         \n",
      "                                                                 \n",
      " dense_1 (Dense)             (None, 1)                 49        \n",
      "                                                                 \n",
      "=================================================================\n",
      "Total params: 127,689\n",
      "Trainable params: 127,689\n",
      "Non-trainable params: 0\n",
      "_________________________________________________________________\n"
     ]
    }
   ],
   "source": [
    "models = tuner.get_best_models(num_models=2)\n",
    "best_model = models[0]\n",
    "# Build the model.\n",
    "# Needed for `Sequential` without specified `input_shape`.\n",
    "best_model.build(input_shape=(1, 12))\n",
    "best_model.summary()"
   ]
  },
  {
   "cell_type": "code",
   "execution_count": 34,
   "metadata": {
    "id": "1MMIhDUo1cl6"
   },
   "outputs": [],
   "source": [
    "from tensorflow.keras import optimizers"
   ]
  },
  {
   "cell_type": "code",
   "execution_count": 212,
   "metadata": {
    "colab": {
     "base_uri": "https://localhost:8080/"
    },
    "id": "WgF7f-cfHYsA",
    "outputId": "05283271-135d-489b-90ff-fd416bf8e703"
   },
   "outputs": [
    {
     "name": "stdout",
     "output_type": "stream",
     "text": [
      "Epoch 1/300\n",
      "9/9 [==============================] - 4s 74ms/step - loss: 66.1975 - mape: 66.1975 - val_loss: 50.4317 - val_mape: 50.4317\n",
      "Epoch 2/300\n",
      "9/9 [==============================] - 0s 11ms/step - loss: 33.7174 - mape: 33.7174 - val_loss: 20.4420 - val_mape: 20.4420\n",
      "Epoch 3/300\n",
      "9/9 [==============================] - 0s 9ms/step - loss: 14.2977 - mape: 14.2977 - val_loss: 10.8069 - val_mape: 10.8069\n",
      "Epoch 4/300\n",
      "9/9 [==============================] - 0s 9ms/step - loss: 15.3243 - mape: 15.3243 - val_loss: 10.6042 - val_mape: 10.6042\n",
      "Epoch 5/300\n",
      "9/9 [==============================] - 0s 9ms/step - loss: 12.6283 - mape: 12.6283 - val_loss: 12.4416 - val_mape: 12.4416\n",
      "Epoch 6/300\n",
      "9/9 [==============================] - 0s 9ms/step - loss: 12.5789 - mape: 12.5789 - val_loss: 13.1028 - val_mape: 13.1028\n",
      "Epoch 7/300\n",
      "9/9 [==============================] - 0s 9ms/step - loss: 11.6531 - mape: 11.6531 - val_loss: 10.3705 - val_mape: 10.3705\n",
      "Epoch 8/300\n",
      "9/9 [==============================] - 0s 11ms/step - loss: 11.2287 - mape: 11.2287 - val_loss: 10.2137 - val_mape: 10.2137\n",
      "Epoch 9/300\n",
      "9/9 [==============================] - 0s 11ms/step - loss: 10.6454 - mape: 10.6454 - val_loss: 10.3504 - val_mape: 10.3504\n",
      "Epoch 10/300\n",
      "9/9 [==============================] - 0s 11ms/step - loss: 10.2336 - mape: 10.2336 - val_loss: 9.7509 - val_mape: 9.7509\n",
      "Epoch 11/300\n",
      "9/9 [==============================] - 0s 9ms/step - loss: 9.8520 - mape: 9.8520 - val_loss: 9.5810 - val_mape: 9.5810\n",
      "Epoch 12/300\n",
      "9/9 [==============================] - 0s 9ms/step - loss: 9.4732 - mape: 9.4732 - val_loss: 9.2105 - val_mape: 9.2105\n",
      "Epoch 13/300\n",
      "9/9 [==============================] - 0s 10ms/step - loss: 9.1463 - mape: 9.1463 - val_loss: 8.1637 - val_mape: 8.1637\n",
      "Epoch 14/300\n",
      "9/9 [==============================] - 0s 11ms/step - loss: 8.5384 - mape: 8.5384 - val_loss: 8.6995 - val_mape: 8.6995\n",
      "Epoch 15/300\n",
      "9/9 [==============================] - 0s 9ms/step - loss: 7.9796 - mape: 7.9796 - val_loss: 7.4632 - val_mape: 7.4632\n",
      "Epoch 16/300\n",
      "9/9 [==============================] - 0s 9ms/step - loss: 7.5859 - mape: 7.5859 - val_loss: 7.3927 - val_mape: 7.3927\n",
      "Epoch 17/300\n",
      "9/9 [==============================] - 0s 10ms/step - loss: 7.2468 - mape: 7.2468 - val_loss: 6.9431 - val_mape: 6.9431\n",
      "Epoch 18/300\n",
      "9/9 [==============================] - 0s 9ms/step - loss: 6.8642 - mape: 6.8642 - val_loss: 6.9773 - val_mape: 6.9773\n",
      "Epoch 19/300\n",
      "9/9 [==============================] - 0s 9ms/step - loss: 6.8630 - mape: 6.8630 - val_loss: 6.1238 - val_mape: 6.1238\n",
      "Epoch 20/300\n",
      "9/9 [==============================] - 0s 11ms/step - loss: 6.3252 - mape: 6.3252 - val_loss: 6.7108 - val_mape: 6.7108\n",
      "Epoch 21/300\n",
      "9/9 [==============================] - 0s 10ms/step - loss: 6.0114 - mape: 6.0114 - val_loss: 6.1670 - val_mape: 6.1670\n",
      "Epoch 22/300\n",
      "9/9 [==============================] - 0s 9ms/step - loss: 5.8137 - mape: 5.8137 - val_loss: 6.2864 - val_mape: 6.2864\n",
      "Epoch 23/300\n",
      "9/9 [==============================] - 0s 9ms/step - loss: 5.7297 - mape: 5.7297 - val_loss: 5.8677 - val_mape: 5.8677\n",
      "Epoch 24/300\n",
      "9/9 [==============================] - 0s 10ms/step - loss: 5.5417 - mape: 5.5417 - val_loss: 6.3733 - val_mape: 6.3733\n",
      "Epoch 25/300\n",
      "9/9 [==============================] - 0s 9ms/step - loss: 5.4910 - mape: 5.4910 - val_loss: 5.8212 - val_mape: 5.8212\n",
      "Epoch 26/300\n",
      "9/9 [==============================] - 0s 9ms/step - loss: 5.3877 - mape: 5.3877 - val_loss: 5.3068 - val_mape: 5.3068\n",
      "Epoch 27/300\n",
      "9/9 [==============================] - 0s 9ms/step - loss: 5.4303 - mape: 5.4303 - val_loss: 5.5219 - val_mape: 5.5219\n",
      "Epoch 28/300\n",
      "9/9 [==============================] - 0s 10ms/step - loss: 5.3744 - mape: 5.3744 - val_loss: 6.2278 - val_mape: 6.2278\n",
      "Epoch 29/300\n",
      "9/9 [==============================] - 0s 9ms/step - loss: 5.2604 - mape: 5.2604 - val_loss: 5.4736 - val_mape: 5.4736\n",
      "Epoch 30/300\n",
      "9/9 [==============================] - 0s 9ms/step - loss: 5.0648 - mape: 5.0648 - val_loss: 5.1961 - val_mape: 5.1961\n",
      "Epoch 31/300\n",
      "9/9 [==============================] - 0s 10ms/step - loss: 5.1488 - mape: 5.1488 - val_loss: 5.7719 - val_mape: 5.7719\n",
      "Epoch 32/300\n",
      "9/9 [==============================] - 0s 10ms/step - loss: 5.1024 - mape: 5.1024 - val_loss: 5.4257 - val_mape: 5.4257\n",
      "Epoch 33/300\n",
      "9/9 [==============================] - 0s 9ms/step - loss: 5.0260 - mape: 5.0260 - val_loss: 5.0647 - val_mape: 5.0647\n",
      "Epoch 34/300\n",
      "9/9 [==============================] - 0s 9ms/step - loss: 4.8651 - mape: 4.8651 - val_loss: 6.0526 - val_mape: 6.0526\n",
      "Epoch 35/300\n",
      "9/9 [==============================] - 0s 10ms/step - loss: 4.8253 - mape: 4.8253 - val_loss: 5.0278 - val_mape: 5.0278\n",
      "Epoch 36/300\n",
      "9/9 [==============================] - 0s 9ms/step - loss: 4.8574 - mape: 4.8574 - val_loss: 5.9628 - val_mape: 5.9628\n",
      "Epoch 37/300\n",
      "9/9 [==============================] - 0s 9ms/step - loss: 4.9147 - mape: 4.9147 - val_loss: 5.0389 - val_mape: 5.0389\n",
      "Epoch 38/300\n",
      "9/9 [==============================] - 0s 9ms/step - loss: 4.7318 - mape: 4.7318 - val_loss: 4.8984 - val_mape: 4.8984\n",
      "Epoch 39/300\n",
      "9/9 [==============================] - 0s 9ms/step - loss: 4.7259 - mape: 4.7259 - val_loss: 4.9134 - val_mape: 4.9134\n",
      "Epoch 40/300\n",
      "9/9 [==============================] - 0s 9ms/step - loss: 4.6311 - mape: 4.6311 - val_loss: 4.8924 - val_mape: 4.8924\n",
      "Epoch 41/300\n",
      "9/9 [==============================] - 0s 9ms/step - loss: 4.5273 - mape: 4.5273 - val_loss: 4.9147 - val_mape: 4.9147\n",
      "Epoch 42/300\n",
      "9/9 [==============================] - 0s 9ms/step - loss: 4.5556 - mape: 4.5556 - val_loss: 5.8911 - val_mape: 5.8911\n",
      "Epoch 43/300\n",
      "9/9 [==============================] - 0s 11ms/step - loss: 4.6552 - mape: 4.6552 - val_loss: 4.7867 - val_mape: 4.7867\n",
      "Epoch 44/300\n",
      "9/9 [==============================] - 0s 9ms/step - loss: 4.6225 - mape: 4.6225 - val_loss: 4.8144 - val_mape: 4.8144\n",
      "Epoch 45/300\n",
      "9/9 [==============================] - 0s 9ms/step - loss: 4.7375 - mape: 4.7375 - val_loss: 5.1353 - val_mape: 5.1353\n",
      "Epoch 46/300\n",
      "9/9 [==============================] - 0s 10ms/step - loss: 4.4576 - mape: 4.4576 - val_loss: 4.8335 - val_mape: 4.8335\n",
      "Epoch 47/300\n",
      "9/9 [==============================] - 0s 11ms/step - loss: 4.4021 - mape: 4.4021 - val_loss: 4.8163 - val_mape: 4.8163\n",
      "Epoch 48/300\n",
      "9/9 [==============================] - 0s 10ms/step - loss: 4.3511 - mape: 4.3511 - val_loss: 4.7871 - val_mape: 4.7871\n",
      "Epoch 49/300\n",
      "9/9 [==============================] - 0s 9ms/step - loss: 4.3567 - mape: 4.3567 - val_loss: 4.8283 - val_mape: 4.8283\n",
      "Epoch 50/300\n",
      "9/9 [==============================] - 0s 10ms/step - loss: 4.2938 - mape: 4.2938 - val_loss: 4.6904 - val_mape: 4.6904\n",
      "Epoch 51/300\n",
      "9/9 [==============================] - 0s 9ms/step - loss: 4.4140 - mape: 4.4140 - val_loss: 4.8126 - val_mape: 4.8126\n",
      "Epoch 52/300\n",
      "9/9 [==============================] - 0s 9ms/step - loss: 4.3009 - mape: 4.3009 - val_loss: 5.0599 - val_mape: 5.0599\n",
      "Epoch 53/300\n",
      "9/9 [==============================] - 0s 9ms/step - loss: 4.2557 - mape: 4.2557 - val_loss: 4.6565 - val_mape: 4.6565\n",
      "Epoch 54/300\n",
      "9/9 [==============================] - 0s 12ms/step - loss: 4.2516 - mape: 4.2516 - val_loss: 4.7193 - val_mape: 4.7193\n",
      "Epoch 55/300\n",
      "9/9 [==============================] - 0s 11ms/step - loss: 4.2197 - mape: 4.2197 - val_loss: 4.7781 - val_mape: 4.7781\n",
      "Epoch 56/300\n",
      "9/9 [==============================] - 0s 10ms/step - loss: 4.2060 - mape: 4.2060 - val_loss: 4.6844 - val_mape: 4.6844\n",
      "Epoch 57/300\n",
      "9/9 [==============================] - 0s 9ms/step - loss: 4.1716 - mape: 4.1716 - val_loss: 4.6561 - val_mape: 4.6561\n",
      "Epoch 58/300\n",
      "9/9 [==============================] - 0s 11ms/step - loss: 4.2738 - mape: 4.2738 - val_loss: 4.6385 - val_mape: 4.6385\n",
      "Epoch 59/300\n",
      "9/9 [==============================] - 0s 9ms/step - loss: 4.2882 - mape: 4.2882 - val_loss: 5.3537 - val_mape: 5.3537\n",
      "Epoch 60/300\n",
      "9/9 [==============================] - 0s 10ms/step - loss: 4.1699 - mape: 4.1699 - val_loss: 4.6897 - val_mape: 4.6897\n",
      "Epoch 61/300\n",
      "9/9 [==============================] - 0s 9ms/step - loss: 4.1467 - mape: 4.1467 - val_loss: 4.6395 - val_mape: 4.6395\n",
      "Epoch 62/300\n",
      "9/9 [==============================] - 0s 9ms/step - loss: 4.1751 - mape: 4.1751 - val_loss: 4.8049 - val_mape: 4.8049\n",
      "Epoch 63/300\n",
      "9/9 [==============================] - 0s 9ms/step - loss: 4.1328 - mape: 4.1328 - val_loss: 4.7213 - val_mape: 4.7213\n",
      "Epoch 64/300\n",
      "9/9 [==============================] - 0s 10ms/step - loss: 4.0601 - mape: 4.0601 - val_loss: 4.9435 - val_mape: 4.9435\n",
      "Epoch 65/300\n",
      "9/9 [==============================] - 0s 12ms/step - loss: 4.1063 - mape: 4.1063 - val_loss: 4.6085 - val_mape: 4.6085\n",
      "Epoch 66/300\n",
      "9/9 [==============================] - 0s 10ms/step - loss: 4.1300 - mape: 4.1300 - val_loss: 4.5720 - val_mape: 4.5720\n",
      "Epoch 67/300\n",
      "9/9 [==============================] - 0s 11ms/step - loss: 4.1007 - mape: 4.1007 - val_loss: 4.5656 - val_mape: 4.5656\n",
      "Epoch 68/300\n",
      "9/9 [==============================] - 0s 10ms/step - loss: 4.1789 - mape: 4.1789 - val_loss: 4.6177 - val_mape: 4.6177\n",
      "Epoch 69/300\n",
      "9/9 [==============================] - 0s 12ms/step - loss: 4.2102 - mape: 4.2102 - val_loss: 5.4292 - val_mape: 5.4292\n",
      "Epoch 70/300\n",
      "9/9 [==============================] - 0s 11ms/step - loss: 4.1077 - mape: 4.1077 - val_loss: 4.8376 - val_mape: 4.8376\n",
      "Epoch 71/300\n",
      "9/9 [==============================] - 0s 9ms/step - loss: 4.2504 - mape: 4.2504 - val_loss: 4.6096 - val_mape: 4.6096\n",
      "Epoch 72/300\n",
      "9/9 [==============================] - 0s 10ms/step - loss: 4.3468 - mape: 4.3468 - val_loss: 4.9968 - val_mape: 4.9968\n",
      "Epoch 73/300\n",
      "9/9 [==============================] - 0s 9ms/step - loss: 4.2673 - mape: 4.2673 - val_loss: 5.3976 - val_mape: 5.3976\n",
      "Epoch 74/300\n",
      "9/9 [==============================] - 0s 10ms/step - loss: 4.0415 - mape: 4.0415 - val_loss: 4.5731 - val_mape: 4.5731\n",
      "Epoch 75/300\n",
      "9/9 [==============================] - 0s 11ms/step - loss: 3.9777 - mape: 3.9777 - val_loss: 4.8827 - val_mape: 4.8827\n",
      "Epoch 76/300\n",
      "9/9 [==============================] - 0s 9ms/step - loss: 4.0134 - mape: 4.0134 - val_loss: 4.8069 - val_mape: 4.8069\n",
      "Epoch 77/300\n",
      "9/9 [==============================] - 0s 9ms/step - loss: 3.9624 - mape: 3.9624 - val_loss: 4.5136 - val_mape: 4.5136\n",
      "Epoch 78/300\n",
      "9/9 [==============================] - 0s 9ms/step - loss: 4.0300 - mape: 4.0300 - val_loss: 4.6368 - val_mape: 4.6368\n",
      "Epoch 79/300\n",
      "9/9 [==============================] - 0s 9ms/step - loss: 4.1702 - mape: 4.1702 - val_loss: 5.0708 - val_mape: 5.0708\n",
      "Epoch 80/300\n",
      "9/9 [==============================] - 0s 9ms/step - loss: 3.9450 - mape: 3.9450 - val_loss: 4.6177 - val_mape: 4.6177\n",
      "Epoch 81/300\n",
      "9/9 [==============================] - 0s 9ms/step - loss: 3.9611 - mape: 3.9611 - val_loss: 4.7194 - val_mape: 4.7194\n",
      "Epoch 82/300\n",
      "9/9 [==============================] - 0s 11ms/step - loss: 4.3315 - mape: 4.3315 - val_loss: 4.5132 - val_mape: 4.5132\n",
      "Epoch 83/300\n",
      "9/9 [==============================] - 0s 9ms/step - loss: 4.0924 - mape: 4.0924 - val_loss: 5.2950 - val_mape: 5.2950\n",
      "Epoch 84/300\n",
      "9/9 [==============================] - 0s 9ms/step - loss: 4.0606 - mape: 4.0606 - val_loss: 4.5906 - val_mape: 4.5906\n",
      "Epoch 85/300\n",
      "9/9 [==============================] - 0s 10ms/step - loss: 4.3718 - mape: 4.3718 - val_loss: 4.8936 - val_mape: 4.8936\n",
      "Epoch 86/300\n",
      "9/9 [==============================] - 0s 10ms/step - loss: 4.4830 - mape: 4.4830 - val_loss: 4.5140 - val_mape: 4.5140\n",
      "Epoch 87/300\n",
      "9/9 [==============================] - 0s 10ms/step - loss: 4.1270 - mape: 4.1270 - val_loss: 5.3892 - val_mape: 5.3892\n",
      "Epoch 88/300\n",
      "9/9 [==============================] - 0s 9ms/step - loss: 3.9058 - mape: 3.9058 - val_loss: 4.4954 - val_mape: 4.4954\n",
      "Epoch 89/300\n",
      "9/9 [==============================] - 0s 10ms/step - loss: 3.8438 - mape: 3.8438 - val_loss: 4.6090 - val_mape: 4.6090\n",
      "Epoch 90/300\n",
      "9/9 [==============================] - 0s 9ms/step - loss: 3.8111 - mape: 3.8111 - val_loss: 4.6307 - val_mape: 4.6307\n",
      "Epoch 91/300\n",
      "9/9 [==============================] - 0s 9ms/step - loss: 3.8387 - mape: 3.8387 - val_loss: 4.6203 - val_mape: 4.6203\n",
      "Epoch 92/300\n",
      "9/9 [==============================] - 0s 10ms/step - loss: 3.7827 - mape: 3.7827 - val_loss: 4.6240 - val_mape: 4.6240\n",
      "Epoch 93/300\n",
      "9/9 [==============================] - 0s 10ms/step - loss: 3.8737 - mape: 3.8737 - val_loss: 4.4748 - val_mape: 4.4748\n",
      "Epoch 94/300\n",
      "9/9 [==============================] - 0s 10ms/step - loss: 3.9189 - mape: 3.9189 - val_loss: 4.4421 - val_mape: 4.4421\n",
      "Epoch 95/300\n",
      "9/9 [==============================] - 0s 11ms/step - loss: 3.8288 - mape: 3.8288 - val_loss: 4.4499 - val_mape: 4.4499\n",
      "Epoch 96/300\n",
      "9/9 [==============================] - 0s 9ms/step - loss: 3.7722 - mape: 3.7722 - val_loss: 4.7836 - val_mape: 4.7836\n",
      "Epoch 97/300\n",
      "9/9 [==============================] - 0s 11ms/step - loss: 3.7512 - mape: 3.7512 - val_loss: 4.4073 - val_mape: 4.4073\n",
      "Epoch 98/300\n",
      "9/9 [==============================] - 0s 9ms/step - loss: 3.8277 - mape: 3.8277 - val_loss: 4.4094 - val_mape: 4.4094\n",
      "Epoch 99/300\n",
      "9/9 [==============================] - 0s 10ms/step - loss: 3.7795 - mape: 3.7795 - val_loss: 4.8817 - val_mape: 4.8817\n",
      "Epoch 100/300\n",
      "9/9 [==============================] - 0s 10ms/step - loss: 3.7393 - mape: 3.7393 - val_loss: 4.9274 - val_mape: 4.9274\n",
      "Epoch 101/300\n",
      "9/9 [==============================] - 0s 11ms/step - loss: 3.9591 - mape: 3.9591 - val_loss: 5.6465 - val_mape: 5.6465\n",
      "Epoch 102/300\n",
      "9/9 [==============================] - 0s 9ms/step - loss: 4.2279 - mape: 4.2279 - val_loss: 4.6354 - val_mape: 4.6354\n",
      "Epoch 103/300\n",
      "9/9 [==============================] - 0s 10ms/step - loss: 3.9433 - mape: 3.9433 - val_loss: 4.3708 - val_mape: 4.3708\n",
      "Epoch 104/300\n",
      "9/9 [==============================] - 0s 10ms/step - loss: 3.7030 - mape: 3.7030 - val_loss: 4.6595 - val_mape: 4.6595\n",
      "Epoch 105/300\n",
      "9/9 [==============================] - 0s 9ms/step - loss: 3.7449 - mape: 3.7449 - val_loss: 5.6423 - val_mape: 5.6423\n",
      "Epoch 106/300\n",
      "9/9 [==============================] - 0s 9ms/step - loss: 4.2625 - mape: 4.2625 - val_loss: 4.3576 - val_mape: 4.3576\n",
      "Epoch 107/300\n",
      "9/9 [==============================] - 0s 9ms/step - loss: 3.8504 - mape: 3.8504 - val_loss: 4.4245 - val_mape: 4.4245\n",
      "Epoch 108/300\n",
      "9/9 [==============================] - 0s 11ms/step - loss: 3.7680 - mape: 3.7680 - val_loss: 5.0707 - val_mape: 5.0707\n",
      "Epoch 109/300\n",
      "9/9 [==============================] - 0s 9ms/step - loss: 3.7405 - mape: 3.7405 - val_loss: 5.1626 - val_mape: 5.1626\n",
      "Epoch 110/300\n",
      "9/9 [==============================] - 0s 10ms/step - loss: 3.6423 - mape: 3.6423 - val_loss: 4.3659 - val_mape: 4.3659\n",
      "Epoch 111/300\n",
      "9/9 [==============================] - 0s 11ms/step - loss: 3.6770 - mape: 3.6770 - val_loss: 4.9678 - val_mape: 4.9678\n",
      "Epoch 112/300\n",
      "9/9 [==============================] - 0s 11ms/step - loss: 3.7666 - mape: 3.7666 - val_loss: 4.6582 - val_mape: 4.6582\n",
      "Epoch 113/300\n",
      "9/9 [==============================] - 0s 9ms/step - loss: 3.6600 - mape: 3.6600 - val_loss: 4.4296 - val_mape: 4.4296\n",
      "Epoch 114/300\n",
      "9/9 [==============================] - 0s 10ms/step - loss: 3.8108 - mape: 3.8108 - val_loss: 4.3751 - val_mape: 4.3751\n",
      "Epoch 115/300\n",
      "9/9 [==============================] - 0s 9ms/step - loss: 3.7189 - mape: 3.7189 - val_loss: 4.5698 - val_mape: 4.5698\n",
      "Epoch 116/300\n",
      "9/9 [==============================] - 0s 10ms/step - loss: 3.6428 - mape: 3.6428 - val_loss: 4.7847 - val_mape: 4.7847\n",
      "Epoch 117/300\n",
      "9/9 [==============================] - 0s 9ms/step - loss: 3.6798 - mape: 3.6798 - val_loss: 4.6295 - val_mape: 4.6295\n",
      "Epoch 118/300\n",
      "9/9 [==============================] - 0s 9ms/step - loss: 3.6560 - mape: 3.6560 - val_loss: 4.3770 - val_mape: 4.3770\n",
      "Epoch 119/300\n",
      "9/9 [==============================] - 0s 11ms/step - loss: 3.6099 - mape: 3.6099 - val_loss: 4.3622 - val_mape: 4.3622\n",
      "Epoch 120/300\n",
      "9/9 [==============================] - 0s 9ms/step - loss: 3.5980 - mape: 3.5980 - val_loss: 4.7258 - val_mape: 4.7258\n",
      "Epoch 121/300\n",
      "9/9 [==============================] - 0s 9ms/step - loss: 3.5185 - mape: 3.5185 - val_loss: 4.9356 - val_mape: 4.9356\n",
      "Epoch 122/300\n",
      "9/9 [==============================] - 0s 9ms/step - loss: 3.6397 - mape: 3.6397 - val_loss: 4.6790 - val_mape: 4.6790\n",
      "Epoch 123/300\n",
      "9/9 [==============================] - 0s 10ms/step - loss: 3.6390 - mape: 3.6390 - val_loss: 4.8145 - val_mape: 4.8145\n",
      "Epoch 124/300\n",
      "9/9 [==============================] - 0s 10ms/step - loss: 3.5953 - mape: 3.5953 - val_loss: 4.3387 - val_mape: 4.3387\n",
      "Epoch 125/300\n",
      "9/9 [==============================] - 0s 11ms/step - loss: 3.5902 - mape: 3.5902 - val_loss: 4.3096 - val_mape: 4.3096\n",
      "Epoch 126/300\n",
      "9/9 [==============================] - 0s 10ms/step - loss: 3.6258 - mape: 3.6258 - val_loss: 4.5459 - val_mape: 4.5459\n",
      "Epoch 127/300\n",
      "9/9 [==============================] - 0s 9ms/step - loss: 3.5322 - mape: 3.5322 - val_loss: 5.0405 - val_mape: 5.0405\n",
      "Epoch 128/300\n",
      "9/9 [==============================] - 0s 10ms/step - loss: 3.5133 - mape: 3.5133 - val_loss: 4.3137 - val_mape: 4.3137\n",
      "Epoch 129/300\n",
      "9/9 [==============================] - 0s 10ms/step - loss: 3.5041 - mape: 3.5041 - val_loss: 4.7038 - val_mape: 4.7038\n",
      "Epoch 130/300\n",
      "9/9 [==============================] - 0s 10ms/step - loss: 3.5339 - mape: 3.5339 - val_loss: 4.7498 - val_mape: 4.7498\n",
      "Epoch 131/300\n",
      "9/9 [==============================] - 0s 9ms/step - loss: 3.6099 - mape: 3.6099 - val_loss: 4.2868 - val_mape: 4.2868\n",
      "Epoch 132/300\n",
      "9/9 [==============================] - 0s 10ms/step - loss: 3.6196 - mape: 3.6196 - val_loss: 4.2763 - val_mape: 4.2763\n",
      "Epoch 133/300\n",
      "9/9 [==============================] - 0s 9ms/step - loss: 3.9256 - mape: 3.9256 - val_loss: 5.1556 - val_mape: 5.1556\n",
      "Epoch 134/300\n",
      "9/9 [==============================] - 0s 9ms/step - loss: 3.8156 - mape: 3.8156 - val_loss: 5.3157 - val_mape: 5.3157\n",
      "Epoch 135/300\n",
      "9/9 [==============================] - 0s 10ms/step - loss: 3.5651 - mape: 3.5651 - val_loss: 4.5677 - val_mape: 4.5677\n",
      "Epoch 136/300\n",
      "9/9 [==============================] - 0s 9ms/step - loss: 3.4908 - mape: 3.4908 - val_loss: 4.9368 - val_mape: 4.9368\n",
      "Epoch 137/300\n",
      "9/9 [==============================] - 0s 13ms/step - loss: 3.5043 - mape: 3.5043 - val_loss: 4.8880 - val_mape: 4.8880\n",
      "Epoch 138/300\n",
      "9/9 [==============================] - 0s 10ms/step - loss: 3.5799 - mape: 3.5799 - val_loss: 4.9877 - val_mape: 4.9877\n",
      "Epoch 139/300\n",
      "9/9 [==============================] - 0s 10ms/step - loss: 3.4965 - mape: 3.4965 - val_loss: 4.2856 - val_mape: 4.2856\n",
      "Epoch 140/300\n",
      "9/9 [==============================] - 0s 12ms/step - loss: 3.5648 - mape: 3.5648 - val_loss: 4.3819 - val_mape: 4.3819\n",
      "Epoch 141/300\n",
      "9/9 [==============================] - 0s 9ms/step - loss: 3.5584 - mape: 3.5584 - val_loss: 5.0496 - val_mape: 5.0496\n",
      "Epoch 142/300\n",
      "9/9 [==============================] - 0s 9ms/step - loss: 3.4859 - mape: 3.4859 - val_loss: 5.2102 - val_mape: 5.2102\n",
      "Epoch 143/300\n",
      "9/9 [==============================] - 0s 10ms/step - loss: 3.5933 - mape: 3.5933 - val_loss: 4.2624 - val_mape: 4.2624\n",
      "Epoch 144/300\n",
      "9/9 [==============================] - 0s 9ms/step - loss: 3.4829 - mape: 3.4829 - val_loss: 4.3132 - val_mape: 4.3132\n",
      "Epoch 145/300\n",
      "9/9 [==============================] - 0s 9ms/step - loss: 3.6167 - mape: 3.6167 - val_loss: 4.4320 - val_mape: 4.4320\n",
      "Epoch 146/300\n",
      "9/9 [==============================] - 0s 11ms/step - loss: 3.6734 - mape: 3.6734 - val_loss: 5.1924 - val_mape: 5.1924\n",
      "Epoch 147/300\n",
      "9/9 [==============================] - 0s 9ms/step - loss: 3.6009 - mape: 3.6009 - val_loss: 5.2463 - val_mape: 5.2463\n",
      "Epoch 148/300\n",
      "9/9 [==============================] - 0s 10ms/step - loss: 3.6745 - mape: 3.6745 - val_loss: 4.6004 - val_mape: 4.6004\n",
      "Epoch 149/300\n",
      "9/9 [==============================] - 0s 9ms/step - loss: 3.6117 - mape: 3.6117 - val_loss: 4.3889 - val_mape: 4.3889\n",
      "Epoch 150/300\n",
      "9/9 [==============================] - 0s 9ms/step - loss: 3.4493 - mape: 3.4493 - val_loss: 4.3124 - val_mape: 4.3124\n",
      "Epoch 151/300\n",
      "9/9 [==============================] - 0s 11ms/step - loss: 3.4697 - mape: 3.4697 - val_loss: 4.7772 - val_mape: 4.7772\n",
      "Epoch 152/300\n",
      "9/9 [==============================] - 0s 10ms/step - loss: 3.3609 - mape: 3.3609 - val_loss: 4.2894 - val_mape: 4.2894\n",
      "Epoch 153/300\n",
      "9/9 [==============================] - 0s 10ms/step - loss: 3.4328 - mape: 3.4328 - val_loss: 4.6158 - val_mape: 4.6158\n",
      "Epoch 154/300\n",
      "9/9 [==============================] - 0s 10ms/step - loss: 3.4341 - mape: 3.4341 - val_loss: 4.9451 - val_mape: 4.9451\n",
      "Epoch 155/300\n",
      "9/9 [==============================] - 0s 9ms/step - loss: 3.5021 - mape: 3.5021 - val_loss: 5.0160 - val_mape: 5.0160\n",
      "Epoch 156/300\n",
      "9/9 [==============================] - 0s 10ms/step - loss: 3.4916 - mape: 3.4916 - val_loss: 4.3257 - val_mape: 4.3257\n",
      "Epoch 157/300\n",
      "9/9 [==============================] - 0s 10ms/step - loss: 3.3530 - mape: 3.3530 - val_loss: 4.5836 - val_mape: 4.5836\n",
      "Epoch 158/300\n",
      "9/9 [==============================] - 0s 9ms/step - loss: 3.3432 - mape: 3.3432 - val_loss: 5.2939 - val_mape: 5.2939\n",
      "Epoch 159/300\n",
      "9/9 [==============================] - 0s 10ms/step - loss: 3.4491 - mape: 3.4491 - val_loss: 4.8603 - val_mape: 4.8603\n",
      "Epoch 160/300\n",
      "9/9 [==============================] - 0s 10ms/step - loss: 3.3295 - mape: 3.3295 - val_loss: 4.3816 - val_mape: 4.3816\n",
      "Epoch 161/300\n",
      "9/9 [==============================] - 0s 9ms/step - loss: 3.3331 - mape: 3.3331 - val_loss: 4.3584 - val_mape: 4.3584\n",
      "Epoch 162/300\n",
      "9/9 [==============================] - 0s 12ms/step - loss: 3.3624 - mape: 3.3624 - val_loss: 4.6167 - val_mape: 4.6167\n",
      "Epoch 163/300\n",
      "9/9 [==============================] - 0s 10ms/step - loss: 3.3386 - mape: 3.3386 - val_loss: 4.6734 - val_mape: 4.6734\n",
      "Epoch 164/300\n",
      "9/9 [==============================] - 0s 9ms/step - loss: 3.3069 - mape: 3.3069 - val_loss: 4.4411 - val_mape: 4.4411\n",
      "Epoch 165/300\n",
      "9/9 [==============================] - 0s 12ms/step - loss: 3.3688 - mape: 3.3688 - val_loss: 4.5272 - val_mape: 4.5272\n",
      "Epoch 166/300\n",
      "9/9 [==============================] - 0s 9ms/step - loss: 3.2898 - mape: 3.2898 - val_loss: 4.6513 - val_mape: 4.6513\n",
      "Epoch 167/300\n",
      "9/9 [==============================] - 0s 11ms/step - loss: 3.2975 - mape: 3.2975 - val_loss: 4.5265 - val_mape: 4.5265\n",
      "Epoch 168/300\n",
      "9/9 [==============================] - 0s 9ms/step - loss: 3.2754 - mape: 3.2754 - val_loss: 4.9662 - val_mape: 4.9662\n",
      "Epoch 169/300\n",
      "9/9 [==============================] - 0s 9ms/step - loss: 3.3291 - mape: 3.3291 - val_loss: 4.7965 - val_mape: 4.7965\n",
      "Epoch 170/300\n",
      "9/9 [==============================] - 0s 9ms/step - loss: 3.3317 - mape: 3.3317 - val_loss: 4.4949 - val_mape: 4.4949\n",
      "Epoch 171/300\n",
      "9/9 [==============================] - 0s 11ms/step - loss: 3.3189 - mape: 3.3189 - val_loss: 4.3245 - val_mape: 4.3245\n",
      "Epoch 172/300\n",
      "9/9 [==============================] - 0s 9ms/step - loss: 3.2949 - mape: 3.2949 - val_loss: 4.4497 - val_mape: 4.4497\n",
      "Epoch 173/300\n",
      "9/9 [==============================] - 0s 9ms/step - loss: 3.4861 - mape: 3.4861 - val_loss: 4.4884 - val_mape: 4.4884\n",
      "Epoch 174/300\n",
      "9/9 [==============================] - 0s 10ms/step - loss: 3.5877 - mape: 3.5877 - val_loss: 4.3129 - val_mape: 4.3129\n",
      "Epoch 175/300\n",
      "9/9 [==============================] - 0s 10ms/step - loss: 3.4114 - mape: 3.4114 - val_loss: 4.5668 - val_mape: 4.5668\n",
      "Epoch 176/300\n",
      "9/9 [==============================] - 0s 11ms/step - loss: 3.3198 - mape: 3.3198 - val_loss: 5.1809 - val_mape: 5.1809\n",
      "Epoch 177/300\n",
      "9/9 [==============================] - 0s 10ms/step - loss: 3.3964 - mape: 3.3964 - val_loss: 4.6984 - val_mape: 4.6984\n",
      "Epoch 178/300\n",
      "9/9 [==============================] - 0s 9ms/step - loss: 3.2751 - mape: 3.2751 - val_loss: 4.7466 - val_mape: 4.7466\n",
      "Epoch 179/300\n",
      "9/9 [==============================] - 0s 10ms/step - loss: 3.2581 - mape: 3.2581 - val_loss: 4.5563 - val_mape: 4.5563\n",
      "Epoch 180/300\n",
      "9/9 [==============================] - 0s 9ms/step - loss: 3.2164 - mape: 3.2164 - val_loss: 4.9334 - val_mape: 4.9334\n",
      "Epoch 181/300\n",
      "9/9 [==============================] - 0s 10ms/step - loss: 3.2552 - mape: 3.2552 - val_loss: 4.5561 - val_mape: 4.5561\n",
      "Epoch 182/300\n",
      "9/9 [==============================] - 0s 9ms/step - loss: 3.2175 - mape: 3.2175 - val_loss: 4.9855 - val_mape: 4.9855\n",
      "Epoch 183/300\n",
      "9/9 [==============================] - 0s 12ms/step - loss: 3.2295 - mape: 3.2295 - val_loss: 4.2885 - val_mape: 4.2885\n",
      "Epoch 184/300\n",
      "9/9 [==============================] - 0s 9ms/step - loss: 3.4289 - mape: 3.4289 - val_loss: 4.2458 - val_mape: 4.2458\n",
      "Epoch 185/300\n",
      "9/9 [==============================] - 0s 10ms/step - loss: 3.2660 - mape: 3.2660 - val_loss: 4.6228 - val_mape: 4.6228\n",
      "Epoch 186/300\n",
      "9/9 [==============================] - 0s 9ms/step - loss: 3.3684 - mape: 3.3684 - val_loss: 4.6657 - val_mape: 4.6657\n",
      "Epoch 187/300\n",
      "9/9 [==============================] - 0s 10ms/step - loss: 3.2447 - mape: 3.2447 - val_loss: 5.0197 - val_mape: 5.0197\n",
      "Epoch 188/300\n",
      "9/9 [==============================] - 0s 9ms/step - loss: 3.2261 - mape: 3.2261 - val_loss: 4.5750 - val_mape: 4.5750\n",
      "Epoch 189/300\n",
      "9/9 [==============================] - 0s 10ms/step - loss: 3.2423 - mape: 3.2423 - val_loss: 4.8382 - val_mape: 4.8382\n",
      "Epoch 190/300\n",
      "9/9 [==============================] - 0s 9ms/step - loss: 3.2665 - mape: 3.2665 - val_loss: 4.8693 - val_mape: 4.8693\n",
      "Epoch 191/300\n",
      "9/9 [==============================] - 0s 10ms/step - loss: 3.2399 - mape: 3.2399 - val_loss: 4.4860 - val_mape: 4.4860\n",
      "Epoch 192/300\n",
      "9/9 [==============================] - 0s 9ms/step - loss: 3.2065 - mape: 3.2065 - val_loss: 4.3553 - val_mape: 4.3553\n",
      "Epoch 193/300\n",
      "9/9 [==============================] - 0s 9ms/step - loss: 3.2649 - mape: 3.2649 - val_loss: 4.2575 - val_mape: 4.2575\n",
      "Epoch 194/300\n",
      "9/9 [==============================] - 0s 12ms/step - loss: 3.6284 - mape: 3.6284 - val_loss: 4.3965 - val_mape: 4.3965\n",
      "Epoch 195/300\n",
      "9/9 [==============================] - 0s 9ms/step - loss: 3.4418 - mape: 3.4418 - val_loss: 4.9269 - val_mape: 4.9269\n",
      "Epoch 196/300\n",
      "9/9 [==============================] - 0s 10ms/step - loss: 3.3383 - mape: 3.3383 - val_loss: 5.4277 - val_mape: 5.4277\n",
      "Epoch 197/300\n",
      "9/9 [==============================] - 0s 10ms/step - loss: 3.2048 - mape: 3.2048 - val_loss: 4.5749 - val_mape: 4.5749\n",
      "Epoch 198/300\n",
      "9/9 [==============================] - 0s 10ms/step - loss: 3.3417 - mape: 3.3417 - val_loss: 4.4751 - val_mape: 4.4751\n",
      "Epoch 199/300\n",
      "9/9 [==============================] - 0s 9ms/step - loss: 3.1700 - mape: 3.1700 - val_loss: 4.2478 - val_mape: 4.2478\n",
      "Epoch 200/300\n",
      "9/9 [==============================] - 0s 10ms/step - loss: 3.1821 - mape: 3.1821 - val_loss: 4.9471 - val_mape: 4.9471\n",
      "Epoch 201/300\n",
      "9/9 [==============================] - 0s 11ms/step - loss: 3.1783 - mape: 3.1783 - val_loss: 4.4799 - val_mape: 4.4799\n",
      "Epoch 202/300\n",
      "9/9 [==============================] - 0s 11ms/step - loss: 3.1814 - mape: 3.1814 - val_loss: 4.6591 - val_mape: 4.6591\n",
      "Epoch 203/300\n",
      "9/9 [==============================] - 0s 10ms/step - loss: 3.1483 - mape: 3.1483 - val_loss: 4.7401 - val_mape: 4.7401\n",
      "Epoch 204/300\n",
      "9/9 [==============================] - 0s 10ms/step - loss: 3.1530 - mape: 3.1530 - val_loss: 4.9698 - val_mape: 4.9698\n",
      "Epoch 205/300\n",
      "9/9 [==============================] - 0s 10ms/step - loss: 3.1364 - mape: 3.1364 - val_loss: 4.5526 - val_mape: 4.5526\n",
      "Epoch 206/300\n",
      "9/9 [==============================] - 0s 11ms/step - loss: 3.1178 - mape: 3.1178 - val_loss: 4.8795 - val_mape: 4.8795\n",
      "Epoch 207/300\n",
      "9/9 [==============================] - 0s 9ms/step - loss: 3.2092 - mape: 3.2092 - val_loss: 5.0826 - val_mape: 5.0826\n",
      "Epoch 208/300\n",
      "9/9 [==============================] - 0s 9ms/step - loss: 3.2206 - mape: 3.2206 - val_loss: 4.5742 - val_mape: 4.5742\n",
      "Epoch 209/300\n",
      "9/9 [==============================] - 0s 11ms/step - loss: 3.1150 - mape: 3.1150 - val_loss: 4.7834 - val_mape: 4.7834\n",
      "Epoch 210/300\n",
      "9/9 [==============================] - 0s 9ms/step - loss: 3.1234 - mape: 3.1234 - val_loss: 4.8250 - val_mape: 4.8250\n",
      "Epoch 211/300\n",
      "9/9 [==============================] - 0s 9ms/step - loss: 3.1975 - mape: 3.1975 - val_loss: 4.8533 - val_mape: 4.8533\n",
      "Epoch 212/300\n",
      "9/9 [==============================] - 0s 10ms/step - loss: 3.1397 - mape: 3.1397 - val_loss: 4.6879 - val_mape: 4.6879\n",
      "Epoch 213/300\n",
      "9/9 [==============================] - 0s 10ms/step - loss: 3.1614 - mape: 3.1614 - val_loss: 4.4858 - val_mape: 4.4858\n",
      "Epoch 214/300\n",
      "9/9 [==============================] - 0s 10ms/step - loss: 3.2279 - mape: 3.2279 - val_loss: 4.3695 - val_mape: 4.3695\n",
      "Epoch 215/300\n",
      "9/9 [==============================] - 0s 12ms/step - loss: 3.1772 - mape: 3.1772 - val_loss: 4.5949 - val_mape: 4.5949\n",
      "Epoch 216/300\n",
      "9/9 [==============================] - 0s 10ms/step - loss: 3.1032 - mape: 3.1032 - val_loss: 4.6251 - val_mape: 4.6251\n",
      "Epoch 217/300\n",
      "9/9 [==============================] - 0s 10ms/step - loss: 3.1546 - mape: 3.1546 - val_loss: 5.3081 - val_mape: 5.3081\n",
      "Epoch 218/300\n",
      "9/9 [==============================] - 0s 10ms/step - loss: 3.2457 - mape: 3.2457 - val_loss: 5.2467 - val_mape: 5.2467\n",
      "Epoch 219/300\n",
      "9/9 [==============================] - 0s 10ms/step - loss: 3.2268 - mape: 3.2268 - val_loss: 4.3509 - val_mape: 4.3509\n",
      "Epoch 220/300\n",
      "9/9 [==============================] - 0s 10ms/step - loss: 3.1528 - mape: 3.1528 - val_loss: 4.4910 - val_mape: 4.4910\n",
      "Epoch 221/300\n",
      "9/9 [==============================] - 0s 10ms/step - loss: 3.0606 - mape: 3.0606 - val_loss: 4.9720 - val_mape: 4.9720\n",
      "Epoch 222/300\n",
      "9/9 [==============================] - 0s 10ms/step - loss: 3.1118 - mape: 3.1118 - val_loss: 4.7500 - val_mape: 4.7500\n",
      "Epoch 223/300\n",
      "9/9 [==============================] - 0s 9ms/step - loss: 3.1104 - mape: 3.1104 - val_loss: 4.7502 - val_mape: 4.7502\n",
      "Epoch 224/300\n",
      "9/9 [==============================] - 0s 10ms/step - loss: 3.0843 - mape: 3.0843 - val_loss: 4.7504 - val_mape: 4.7504\n",
      "Epoch 225/300\n",
      "9/9 [==============================] - 0s 11ms/step - loss: 3.0503 - mape: 3.0503 - val_loss: 4.7124 - val_mape: 4.7124\n",
      "Epoch 226/300\n",
      "9/9 [==============================] - 0s 9ms/step - loss: 3.0294 - mape: 3.0294 - val_loss: 4.6627 - val_mape: 4.6627\n",
      "Epoch 227/300\n",
      "9/9 [==============================] - 0s 10ms/step - loss: 3.0320 - mape: 3.0320 - val_loss: 5.0165 - val_mape: 5.0165\n",
      "Epoch 228/300\n",
      "9/9 [==============================] - 0s 10ms/step - loss: 3.1939 - mape: 3.1939 - val_loss: 5.1287 - val_mape: 5.1287\n",
      "Epoch 229/300\n",
      "9/9 [==============================] - 0s 10ms/step - loss: 3.1684 - mape: 3.1684 - val_loss: 4.4252 - val_mape: 4.4252\n",
      "Epoch 230/300\n",
      "9/9 [==============================] - 0s 9ms/step - loss: 3.1259 - mape: 3.1259 - val_loss: 4.4872 - val_mape: 4.4872\n",
      "Epoch 231/300\n",
      "9/9 [==============================] - 0s 10ms/step - loss: 3.1641 - mape: 3.1641 - val_loss: 4.4701 - val_mape: 4.4701\n",
      "Epoch 232/300\n",
      "9/9 [==============================] - 0s 11ms/step - loss: 3.1234 - mape: 3.1234 - val_loss: 4.4126 - val_mape: 4.4126\n",
      "Epoch 233/300\n",
      "9/9 [==============================] - 0s 10ms/step - loss: 3.0902 - mape: 3.0902 - val_loss: 4.4023 - val_mape: 4.4023\n",
      "Epoch 234/300\n",
      "9/9 [==============================] - 0s 10ms/step - loss: 3.0152 - mape: 3.0152 - val_loss: 4.6241 - val_mape: 4.6241\n",
      "Epoch 235/300\n",
      "9/9 [==============================] - 0s 10ms/step - loss: 3.0114 - mape: 3.0114 - val_loss: 4.3972 - val_mape: 4.3972\n",
      "Epoch 236/300\n",
      "9/9 [==============================] - 0s 12ms/step - loss: 3.0359 - mape: 3.0359 - val_loss: 4.2263 - val_mape: 4.2263\n",
      "Epoch 237/300\n",
      "9/9 [==============================] - 0s 10ms/step - loss: 3.0567 - mape: 3.0567 - val_loss: 4.5446 - val_mape: 4.5446\n",
      "Epoch 238/300\n",
      "9/9 [==============================] - 0s 10ms/step - loss: 3.0400 - mape: 3.0400 - val_loss: 4.5353 - val_mape: 4.5353\n",
      "Epoch 239/300\n",
      "9/9 [==============================] - 0s 10ms/step - loss: 3.0361 - mape: 3.0361 - val_loss: 4.6471 - val_mape: 4.6471\n",
      "Epoch 240/300\n",
      "9/9 [==============================] - 0s 10ms/step - loss: 2.9877 - mape: 2.9877 - val_loss: 4.9069 - val_mape: 4.9069\n",
      "Epoch 241/300\n",
      "9/9 [==============================] - 0s 10ms/step - loss: 3.0640 - mape: 3.0640 - val_loss: 5.0411 - val_mape: 5.0411\n",
      "Epoch 242/300\n",
      "9/9 [==============================] - 0s 10ms/step - loss: 3.0348 - mape: 3.0348 - val_loss: 4.3203 - val_mape: 4.3203\n",
      "Epoch 243/300\n",
      "9/9 [==============================] - 0s 11ms/step - loss: 3.1855 - mape: 3.1855 - val_loss: 4.9101 - val_mape: 4.9101\n",
      "Epoch 244/300\n",
      "9/9 [==============================] - 0s 10ms/step - loss: 3.0918 - mape: 3.0918 - val_loss: 4.4764 - val_mape: 4.4764\n",
      "Epoch 245/300\n",
      "9/9 [==============================] - 0s 10ms/step - loss: 3.1414 - mape: 3.1414 - val_loss: 4.7705 - val_mape: 4.7705\n",
      "Epoch 246/300\n",
      "9/9 [==============================] - 0s 15ms/step - loss: 3.0247 - mape: 3.0247 - val_loss: 4.7626 - val_mape: 4.7626\n",
      "Epoch 247/300\n",
      "9/9 [==============================] - 0s 10ms/step - loss: 3.0928 - mape: 3.0928 - val_loss: 4.6162 - val_mape: 4.6162\n",
      "Epoch 248/300\n",
      "9/9 [==============================] - 0s 10ms/step - loss: 3.1336 - mape: 3.1336 - val_loss: 4.5421 - val_mape: 4.5421\n",
      "Epoch 249/300\n",
      "9/9 [==============================] - 0s 11ms/step - loss: 3.1330 - mape: 3.1330 - val_loss: 4.5636 - val_mape: 4.5636\n",
      "Epoch 250/300\n",
      "9/9 [==============================] - 0s 9ms/step - loss: 3.1002 - mape: 3.1002 - val_loss: 4.7657 - val_mape: 4.7657\n",
      "Epoch 251/300\n",
      "9/9 [==============================] - 0s 10ms/step - loss: 3.2496 - mape: 3.2496 - val_loss: 4.8274 - val_mape: 4.8274\n",
      "Epoch 252/300\n",
      "9/9 [==============================] - 0s 10ms/step - loss: 3.2188 - mape: 3.2188 - val_loss: 5.0271 - val_mape: 5.0271\n",
      "Epoch 253/300\n",
      "9/9 [==============================] - 0s 10ms/step - loss: 3.0771 - mape: 3.0771 - val_loss: 4.9870 - val_mape: 4.9870\n",
      "Epoch 254/300\n",
      "9/9 [==============================] - 0s 11ms/step - loss: 2.9786 - mape: 2.9786 - val_loss: 4.9543 - val_mape: 4.9543\n",
      "Epoch 255/300\n",
      "9/9 [==============================] - 0s 10ms/step - loss: 3.0259 - mape: 3.0259 - val_loss: 4.6654 - val_mape: 4.6654\n",
      "Epoch 256/300\n",
      "9/9 [==============================] - 0s 12ms/step - loss: 3.0776 - mape: 3.0776 - val_loss: 4.3691 - val_mape: 4.3691\n",
      "Epoch 257/300\n",
      "9/9 [==============================] - 0s 12ms/step - loss: 2.9734 - mape: 2.9734 - val_loss: 4.2577 - val_mape: 4.2577\n",
      "Epoch 258/300\n",
      "9/9 [==============================] - 0s 12ms/step - loss: 2.9774 - mape: 2.9774 - val_loss: 4.3749 - val_mape: 4.3749\n",
      "Epoch 259/300\n",
      "9/9 [==============================] - 0s 11ms/step - loss: 2.9653 - mape: 2.9653 - val_loss: 4.5203 - val_mape: 4.5203\n",
      "Epoch 260/300\n",
      "9/9 [==============================] - 0s 11ms/step - loss: 2.9681 - mape: 2.9681 - val_loss: 4.5642 - val_mape: 4.5642\n",
      "Epoch 261/300\n",
      "9/9 [==============================] - 0s 11ms/step - loss: 2.9022 - mape: 2.9022 - val_loss: 4.9357 - val_mape: 4.9357\n",
      "Epoch 262/300\n",
      "9/9 [==============================] - 0s 10ms/step - loss: 3.0328 - mape: 3.0328 - val_loss: 5.1360 - val_mape: 5.1360\n",
      "Epoch 263/300\n",
      "9/9 [==============================] - 0s 10ms/step - loss: 3.0208 - mape: 3.0208 - val_loss: 4.9142 - val_mape: 4.9142\n",
      "Epoch 264/300\n",
      "9/9 [==============================] - 0s 11ms/step - loss: 2.9991 - mape: 2.9991 - val_loss: 4.7115 - val_mape: 4.7115\n",
      "Epoch 265/300\n",
      "9/9 [==============================] - 0s 9ms/step - loss: 2.9852 - mape: 2.9852 - val_loss: 4.5173 - val_mape: 4.5173\n",
      "Epoch 266/300\n",
      "9/9 [==============================] - 0s 12ms/step - loss: 3.0253 - mape: 3.0253 - val_loss: 4.6848 - val_mape: 4.6848\n",
      "Epoch 267/300\n",
      "9/9 [==============================] - 0s 11ms/step - loss: 3.0440 - mape: 3.0440 - val_loss: 4.7753 - val_mape: 4.7753\n",
      "Epoch 268/300\n",
      "9/9 [==============================] - 0s 10ms/step - loss: 3.0415 - mape: 3.0415 - val_loss: 4.6628 - val_mape: 4.6628\n",
      "Epoch 269/300\n",
      "9/9 [==============================] - 0s 10ms/step - loss: 3.0482 - mape: 3.0482 - val_loss: 4.4418 - val_mape: 4.4418\n",
      "Epoch 270/300\n",
      "9/9 [==============================] - 0s 10ms/step - loss: 2.9320 - mape: 2.9320 - val_loss: 4.5406 - val_mape: 4.5406\n",
      "Epoch 271/300\n",
      "9/9 [==============================] - 0s 10ms/step - loss: 2.9844 - mape: 2.9844 - val_loss: 4.2940 - val_mape: 4.2940\n",
      "Epoch 272/300\n",
      "9/9 [==============================] - 0s 11ms/step - loss: 3.1154 - mape: 3.1154 - val_loss: 4.3584 - val_mape: 4.3584\n",
      "Epoch 273/300\n",
      "9/9 [==============================] - 0s 10ms/step - loss: 2.8537 - mape: 2.8537 - val_loss: 4.7837 - val_mape: 4.7837\n",
      "Epoch 274/300\n",
      "9/9 [==============================] - 0s 11ms/step - loss: 2.8793 - mape: 2.8793 - val_loss: 4.6567 - val_mape: 4.6567\n",
      "Epoch 275/300\n",
      "9/9 [==============================] - 0s 12ms/step - loss: 2.9299 - mape: 2.9299 - val_loss: 4.7877 - val_mape: 4.7877\n",
      "Epoch 276/300\n",
      "9/9 [==============================] - 0s 11ms/step - loss: 2.8860 - mape: 2.8860 - val_loss: 4.3830 - val_mape: 4.3830\n",
      "Epoch 277/300\n",
      "9/9 [==============================] - 0s 11ms/step - loss: 3.0330 - mape: 3.0330 - val_loss: 4.5184 - val_mape: 4.5184\n",
      "Epoch 278/300\n",
      "9/9 [==============================] - 0s 10ms/step - loss: 3.3070 - mape: 3.3070 - val_loss: 4.2786 - val_mape: 4.2786\n",
      "Epoch 279/300\n",
      "9/9 [==============================] - 0s 9ms/step - loss: 3.1771 - mape: 3.1771 - val_loss: 4.5924 - val_mape: 4.5924\n",
      "Epoch 280/300\n",
      "9/9 [==============================] - 0s 10ms/step - loss: 2.8708 - mape: 2.8708 - val_loss: 4.8665 - val_mape: 4.8665\n",
      "Epoch 281/300\n",
      "9/9 [==============================] - 0s 12ms/step - loss: 2.9083 - mape: 2.9083 - val_loss: 4.4259 - val_mape: 4.4259\n",
      "Epoch 282/300\n",
      "9/9 [==============================] - 0s 9ms/step - loss: 2.9185 - mape: 2.9185 - val_loss: 4.4795 - val_mape: 4.4795\n",
      "Epoch 283/300\n",
      "9/9 [==============================] - 0s 11ms/step - loss: 2.9497 - mape: 2.9497 - val_loss: 4.4119 - val_mape: 4.4119\n",
      "Epoch 284/300\n",
      "9/9 [==============================] - 0s 10ms/step - loss: 2.9978 - mape: 2.9978 - val_loss: 4.3413 - val_mape: 4.3413\n",
      "Epoch 285/300\n",
      "9/9 [==============================] - 0s 11ms/step - loss: 2.9631 - mape: 2.9631 - val_loss: 4.4572 - val_mape: 4.4572\n",
      "Epoch 286/300\n",
      "9/9 [==============================] - 0s 12ms/step - loss: 3.0150 - mape: 3.0150 - val_loss: 4.5525 - val_mape: 4.5525\n",
      "Epoch 287/300\n",
      "9/9 [==============================] - 0s 10ms/step - loss: 2.9690 - mape: 2.9690 - val_loss: 4.6429 - val_mape: 4.6429\n",
      "Epoch 288/300\n",
      "9/9 [==============================] - 0s 10ms/step - loss: 3.0554 - mape: 3.0554 - val_loss: 4.7372 - val_mape: 4.7372\n",
      "Epoch 289/300\n",
      "9/9 [==============================] - 0s 11ms/step - loss: 3.1965 - mape: 3.1965 - val_loss: 4.7531 - val_mape: 4.7531\n",
      "Epoch 290/300\n",
      "9/9 [==============================] - 0s 11ms/step - loss: 2.9677 - mape: 2.9677 - val_loss: 5.2704 - val_mape: 5.2704\n",
      "Epoch 291/300\n",
      "9/9 [==============================] - 0s 10ms/step - loss: 3.0571 - mape: 3.0571 - val_loss: 5.3454 - val_mape: 5.3454\n",
      "Epoch 292/300\n",
      "9/9 [==============================] - 0s 10ms/step - loss: 3.0791 - mape: 3.0791 - val_loss: 5.0849 - val_mape: 5.0849\n",
      "Epoch 293/300\n",
      "9/9 [==============================] - 0s 10ms/step - loss: 2.9746 - mape: 2.9746 - val_loss: 4.8224 - val_mape: 4.8224\n",
      "Epoch 294/300\n",
      "9/9 [==============================] - 0s 10ms/step - loss: 2.8272 - mape: 2.8272 - val_loss: 4.9905 - val_mape: 4.9905\n",
      "Epoch 295/300\n",
      "9/9 [==============================] - 0s 11ms/step - loss: 2.8797 - mape: 2.8797 - val_loss: 4.9384 - val_mape: 4.9384\n",
      "Epoch 296/300\n",
      "9/9 [==============================] - 0s 12ms/step - loss: 2.8318 - mape: 2.8318 - val_loss: 4.6639 - val_mape: 4.6639\n",
      "Epoch 297/300\n",
      "9/9 [==============================] - 0s 10ms/step - loss: 2.8172 - mape: 2.8172 - val_loss: 4.5626 - val_mape: 4.5626\n",
      "Epoch 298/300\n",
      "9/9 [==============================] - 0s 10ms/step - loss: 2.8496 - mape: 2.8496 - val_loss: 4.5314 - val_mape: 4.5314\n",
      "Epoch 299/300\n",
      "9/9 [==============================] - 0s 10ms/step - loss: 2.8259 - mape: 2.8259 - val_loss: 4.6396 - val_mape: 4.6396\n",
      "Epoch 300/300\n",
      "9/9 [==============================] - 0s 11ms/step - loss: 2.8260 - mape: 2.8260 - val_loss: 4.1982 - val_mape: 4.1982\n"
     ]
    }
   ],
   "source": [
    "model = Sequential()\n",
    "model.add(Bidirectional(SimpleRNN(256,activation='relu',input_shape=(1,look_back),return_sequences=True)))\n",
    "model.add(Bidirectional(SimpleRNN(128,activation='relu')))\n",
    "model.add(Dense(1,activation='linear'))\n",
    "ad=optimizers.Adam(learning_rate=0.00005384998106834072)\n",
    "model.compile(optimizer = ad, loss = 'mape', metrics = ['mape'])\n",
    "model_history=model.fit(trainX, trainY,validation_data=(testX, testY), batch_size = 34, epochs = 300)"
   ]
  },
  {
   "cell_type": "code",
   "execution_count": 213,
   "metadata": {
    "id": "BAZDBKmsuz-W"
   },
   "outputs": [],
   "source": [
    "def model_loss(history):\n",
    "    plt.figure(figsize=(15,8))\n",
    "    plt.plot(history.history['loss'], label='Train Loss')\n",
    "    plt.plot(history.history['val_loss'], label='Test Loss')\n",
    "    plt.title('model loss')\n",
    "    plt.ylabel('loss')\n",
    "    plt.xlabel('epochs')\n",
    "    plt.legend(loc='upper right')\n",
    "    plt.show();"
   ]
  },
  {
   "cell_type": "code",
   "execution_count": 214,
   "metadata": {
    "id": "6wsv_1V5u0BA"
   },
   "outputs": [],
   "source": [
    "train_score = model.evaluate(trainX, trainY,verbose=0)\n",
    "test_score = model.evaluate(testX, testY,verbose=0)"
   ]
  },
  {
   "cell_type": "code",
   "execution_count": 215,
   "metadata": {
    "colab": {
     "base_uri": "https://localhost:8080/",
     "height": 548
    },
    "id": "ki2fR8nsBn2P",
    "outputId": "8978a1d2-1902-4193-ca0f-5310c9207e7b"
   },
   "outputs": [
    {
     "name": "stdout",
     "output_type": "stream",
     "text": [
      "Train MAPE : 3.21 \n",
      "Test MAPE : 4.20 \n"
     ]
    },
    {
     "data": {
      "image/png": "[encoded data removed]",
      "text/plain": [
       "<Figure size 1080x576 with 1 Axes>"
      ]
     },
     "metadata": {
      "needs_background": "light"
     },
     "output_type": "display_data"
    }
   ],
   "source": [
    "train_predict = model.predict(trainX)\n",
    "test_predict = model.predict(testX)\n",
    "\n",
    "# invert predictions\n",
    "train_predict = scaler.inverse_transform(train_predict)\n",
    "trainY = scaler.inverse_transform(trainY)\n",
    "test_predict = scaler.inverse_transform(test_predict)\n",
    "testY = scaler.inverse_transform(testY)\n",
    "print('Train MAPE : %.2f ' % (train_score[1]))\n",
    "print('Test MAPE : %.2f ' % (test_score[1]))\n",
    "model_loss(model_history)"
   ]
  },
  {
   "cell_type": "code",
   "execution_count": 216,
   "metadata": {
    "id": "taQLXAw0u0JX"
   },
   "outputs": [],
   "source": [
    "import seaborn as sns"
   ]
  },
  {
   "cell_type": "code",
   "execution_count": 217,
   "metadata": {
    "id": "cf339BAEHYui"
   },
   "outputs": [],
   "source": [
    "def prediction_plot(testY, test_predict,look_back):\n",
    "    len_prediction=[x for x in range(298,333)]\n",
    "    plt.plot(trainY.reshape(-1,))\n",
    "    plt.plot(len_prediction, testY.reshape(-1,), marker='.', label='actual')\n",
    "    plt.plot(len_prediction, test_predict, 'g', label=\"prediction\")\n",
    "    plt.tight_layout()\n",
    "    sns.despine(top=True)\n",
    "    plt.subplots_adjust(left=0.07)\n",
    "    plt.ylabel('Units', size=15)\n",
    "    plt.xlabel('Time step', size=15)\n",
    "    plt.legend(fontsize=15)\n",
    "    plt.show()"
   ]
  },
  {
   "cell_type": "code",
   "execution_count": 218,
   "metadata": {
    "colab": {
     "base_uri": "https://localhost:8080/",
     "height": 604
    },
    "id": "b7iO8NJAHYxQ",
    "outputId": "8b5248c3-de95-48c0-e4fd-3bd739836e31"
   },
   "outputs": [
    {
     "data": {
      "image/png": "[encoded data removed]",
      "text/plain": [
       "<Figure size 1080x576 with 1 Axes>"
      ]
     },
     "metadata": {
      "needs_background": "light"
     },
     "output_type": "display_data"
    }
   ],
   "source": [
    "test_predict = model.predict(testX)\n",
    "test_predict = scaler.inverse_transform(test_predict)\n",
    "prediction_plot(testY, test_predict,look_back)"
   ]
  },
  {
   "cell_type": "code",
   "execution_count": null,
   "metadata": {
    "id": "r2dcb-fGHY0n"
   },
   "outputs": [],
   "source": []
  }
 ],
 "metadata": {
  "colab": {
   "collapsed_sections": [],
   "name": "Alocohol_Sales_HPT_RNN_Bidirectional_version_3_best.ipynb",
   "provenance": []
  },
  "kernelspec": {
   "display_name": "Python 3",
   "language": "python",
   "name": "python3"
  },
  "language_info": {
   "codemirror_mode": {
    "name": "ipython",
    "version": 3
   },
   "file_extension": ".py",
   "mimetype": "text/x-python",
   "name": "python",
   "nbconvert_exporter": "python",
   "pygments_lexer": "ipython3",
   "version": "3.8.8"
  }
 },
 "nbformat": 4,
 "nbformat_minor": 1
}
